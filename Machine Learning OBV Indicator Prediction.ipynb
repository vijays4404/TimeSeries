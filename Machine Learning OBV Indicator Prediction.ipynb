{
 "cells": [
  {
   "cell_type": "code",
   "execution_count": 1,
   "metadata": {},
   "outputs": [],
   "source": [
    "#importing the library"
   ]
  },
  {
   "cell_type": "code",
   "execution_count": 320,
   "metadata": {},
   "outputs": [],
   "source": [
    "#importing library\n",
    "import pandas as pd\n",
    "import numpy as np\n",
    "import matplotlib.pyplot as plt\n",
    "import seaborn as sns\n",
    "from sklearn.model_selection import train_test_split\n",
    "from sklearn.linear_model import LinearRegression\n",
    "from sklearn.linear_model import Lasso\n",
    "from sklearn import metrics\n"
   ]
  },
  {
   "cell_type": "code",
   "execution_count": 321,
   "metadata": {},
   "outputs": [
    {
     "data": {
      "text/html": [
       "<div>\n",
       "<style scoped>\n",
       "    .dataframe tbody tr th:only-of-type {\n",
       "        vertical-align: middle;\n",
       "    }\n",
       "\n",
       "    .dataframe tbody tr th {\n",
       "        vertical-align: top;\n",
       "    }\n",
       "\n",
       "    .dataframe thead th {\n",
       "        text-align: right;\n",
       "    }\n",
       "</style>\n",
       "<table border=\"1\" class=\"dataframe\">\n",
       "  <thead>\n",
       "    <tr style=\"text-align: right;\">\n",
       "      <th></th>\n",
       "      <th>Date</th>\n",
       "      <th>Open</th>\n",
       "      <th>High</th>\n",
       "      <th>Low</th>\n",
       "      <th>Close</th>\n",
       "      <th>Adj Close</th>\n",
       "      <th>Volume</th>\n",
       "    </tr>\n",
       "  </thead>\n",
       "  <tbody>\n",
       "    <tr>\n",
       "      <th>240</th>\n",
       "      <td>2021-11-08</td>\n",
       "      <td>18040.199219</td>\n",
       "      <td>18087.800781</td>\n",
       "      <td>17836.099609</td>\n",
       "      <td>18068.550781</td>\n",
       "      <td>18068.550781</td>\n",
       "      <td>338900.0</td>\n",
       "    </tr>\n",
       "    <tr>\n",
       "      <th>241</th>\n",
       "      <td>2021-11-09</td>\n",
       "      <td>18084.349609</td>\n",
       "      <td>18112.599609</td>\n",
       "      <td>17983.050781</td>\n",
       "      <td>18044.250000</td>\n",
       "      <td>18044.250000</td>\n",
       "      <td>270200.0</td>\n",
       "    </tr>\n",
       "    <tr>\n",
       "      <th>242</th>\n",
       "      <td>2021-11-10</td>\n",
       "      <td>17973.449219</td>\n",
       "      <td>18061.250000</td>\n",
       "      <td>17915.000000</td>\n",
       "      <td>18017.199219</td>\n",
       "      <td>18017.199219</td>\n",
       "      <td>261400.0</td>\n",
       "    </tr>\n",
       "    <tr>\n",
       "      <th>243</th>\n",
       "      <td>2021-11-11</td>\n",
       "      <td>17967.449219</td>\n",
       "      <td>17971.349609</td>\n",
       "      <td>17798.199219</td>\n",
       "      <td>17873.599609</td>\n",
       "      <td>17873.599609</td>\n",
       "      <td>232100.0</td>\n",
       "    </tr>\n",
       "    <tr>\n",
       "      <th>244</th>\n",
       "      <td>2021-11-12</td>\n",
       "      <td>17977.599609</td>\n",
       "      <td>18123.000000</td>\n",
       "      <td>17905.900391</td>\n",
       "      <td>18102.750000</td>\n",
       "      <td>18102.750000</td>\n",
       "      <td>249100.0</td>\n",
       "    </tr>\n",
       "  </tbody>\n",
       "</table>\n",
       "</div>"
      ],
      "text/plain": [
       "           Date          Open          High           Low         Close  \\\n",
       "240  2021-11-08  18040.199219  18087.800781  17836.099609  18068.550781   \n",
       "241  2021-11-09  18084.349609  18112.599609  17983.050781  18044.250000   \n",
       "242  2021-11-10  17973.449219  18061.250000  17915.000000  18017.199219   \n",
       "243  2021-11-11  17967.449219  17971.349609  17798.199219  17873.599609   \n",
       "244  2021-11-12  17977.599609  18123.000000  17905.900391  18102.750000   \n",
       "\n",
       "        Adj Close    Volume  \n",
       "240  18068.550781  338900.0  \n",
       "241  18044.250000  270200.0  \n",
       "242  18017.199219  261400.0  \n",
       "243  17873.599609  232100.0  \n",
       "244  18102.750000  249100.0  "
      ]
     },
     "execution_count": 321,
     "metadata": {},
     "output_type": "execute_result"
    }
   ],
   "source": [
    "#importing data\n",
    "nifty=pd.read_csv('nifty_latest.csv')\n",
    "nifty.tail()"
   ]
  },
  {
   "cell_type": "code",
   "execution_count": 322,
   "metadata": {},
   "outputs": [],
   "source": [
    "obv=[]\n",
    "obv.append(0)\n",
    "#Loop through the data set from the second row (index 1 ) to the end of the dataset\n",
    "for i in range(1,len(nifty.index)):\n",
    "    if nifty['Close'][i]>nifty['Close'][i-1]:\n",
    "        obv.append(obv[-1]+nifty.Volume[i])\n",
    "    elif nifty.Close[i]<nifty.Close[i-1]:\n",
    "        obv.append(obv[-1]-nifty.Volume[i])\n",
    "    else:\n",
    "        obv.append(obv[-1])\n",
    "        \n",
    "        \n",
    "#Storing the obv and obv exponential moving average(ema ) into new columns:\n",
    "nifty['obv']=obv\n",
    "nifty['obv_ema']=nifty['obv'].ewm(span=20).mean()\n"
   ]
  },
  {
   "cell_type": "code",
   "execution_count": 323,
   "metadata": {},
   "outputs": [],
   "source": [
    "#Create a variable to predict 'x' days out into the future\n",
    "future_days=10\n",
    "#Create a new column (target) shifted 'x' up\n",
    "nifty['Prediction']=nifty[['Adj Close']].shift(-future_days)\n"
   ]
  },
  {
   "cell_type": "code",
   "execution_count": 324,
   "metadata": {
    "scrolled": true
   },
   "outputs": [
    {
     "data": {
      "text/html": [
       "<div>\n",
       "<style scoped>\n",
       "    .dataframe tbody tr th:only-of-type {\n",
       "        vertical-align: middle;\n",
       "    }\n",
       "\n",
       "    .dataframe tbody tr th {\n",
       "        vertical-align: top;\n",
       "    }\n",
       "\n",
       "    .dataframe thead th {\n",
       "        text-align: right;\n",
       "    }\n",
       "</style>\n",
       "<table border=\"1\" class=\"dataframe\">\n",
       "  <thead>\n",
       "    <tr style=\"text-align: right;\">\n",
       "      <th></th>\n",
       "      <th>Date</th>\n",
       "      <th>Open</th>\n",
       "      <th>High</th>\n",
       "      <th>Low</th>\n",
       "      <th>Close</th>\n",
       "      <th>Adj Close</th>\n",
       "      <th>Volume</th>\n",
       "      <th>obv</th>\n",
       "      <th>obv_ema</th>\n",
       "      <th>Prediction</th>\n",
       "    </tr>\n",
       "  </thead>\n",
       "  <tbody>\n",
       "    <tr>\n",
       "      <th>0</th>\n",
       "      <td>2020-11-17</td>\n",
       "      <td>12932.500000</td>\n",
       "      <td>12934.049805</td>\n",
       "      <td>12797.099609</td>\n",
       "      <td>12874.200195</td>\n",
       "      <td>12874.200195</td>\n",
       "      <td>707700.0</td>\n",
       "      <td>0.0</td>\n",
       "      <td>0.000000e+00</td>\n",
       "      <td>13113.750000</td>\n",
       "    </tr>\n",
       "    <tr>\n",
       "      <th>1</th>\n",
       "      <td>2020-11-18</td>\n",
       "      <td>12860.099609</td>\n",
       "      <td>12948.849609</td>\n",
       "      <td>12819.349609</td>\n",
       "      <td>12938.250000</td>\n",
       "      <td>12938.250000</td>\n",
       "      <td>731300.0</td>\n",
       "      <td>731300.0</td>\n",
       "      <td>3.839325e+05</td>\n",
       "      <td>13133.900391</td>\n",
       "    </tr>\n",
       "    <tr>\n",
       "      <th>2</th>\n",
       "      <td>2020-11-19</td>\n",
       "      <td>12839.500000</td>\n",
       "      <td>12963.000000</td>\n",
       "      <td>12745.750000</td>\n",
       "      <td>12771.700195</td>\n",
       "      <td>12771.700195</td>\n",
       "      <td>768800.0</td>\n",
       "      <td>-37500.0</td>\n",
       "      <td>2.291850e+05</td>\n",
       "      <td>13258.549805</td>\n",
       "    </tr>\n",
       "    <tr>\n",
       "      <th>3</th>\n",
       "      <td>2020-11-20</td>\n",
       "      <td>12813.400391</td>\n",
       "      <td>12892.450195</td>\n",
       "      <td>12730.250000</td>\n",
       "      <td>12859.049805</td>\n",
       "      <td>12859.049805</td>\n",
       "      <td>664000.0</td>\n",
       "      <td>626500.0</td>\n",
       "      <td>3.438837e+05</td>\n",
       "      <td>13355.750000</td>\n",
       "    </tr>\n",
       "    <tr>\n",
       "      <th>4</th>\n",
       "      <td>2020-11-23</td>\n",
       "      <td>12960.299805</td>\n",
       "      <td>12968.849609</td>\n",
       "      <td>12825.700195</td>\n",
       "      <td>12926.450195</td>\n",
       "      <td>12926.450195</td>\n",
       "      <td>633100.0</td>\n",
       "      <td>1259600.0</td>\n",
       "      <td>5.653877e+05</td>\n",
       "      <td>13392.950195</td>\n",
       "    </tr>\n",
       "    <tr>\n",
       "      <th>...</th>\n",
       "      <td>...</td>\n",
       "      <td>...</td>\n",
       "      <td>...</td>\n",
       "      <td>...</td>\n",
       "      <td>...</td>\n",
       "      <td>...</td>\n",
       "      <td>...</td>\n",
       "      <td>...</td>\n",
       "      <td>...</td>\n",
       "      <td>...</td>\n",
       "    </tr>\n",
       "    <tr>\n",
       "      <th>240</th>\n",
       "      <td>2021-11-08</td>\n",
       "      <td>18040.199219</td>\n",
       "      <td>18087.800781</td>\n",
       "      <td>17836.099609</td>\n",
       "      <td>18068.550781</td>\n",
       "      <td>18068.550781</td>\n",
       "      <td>338900.0</td>\n",
       "      <td>19187800.0</td>\n",
       "      <td>1.960523e+07</td>\n",
       "      <td>NaN</td>\n",
       "    </tr>\n",
       "    <tr>\n",
       "      <th>241</th>\n",
       "      <td>2021-11-09</td>\n",
       "      <td>18084.349609</td>\n",
       "      <td>18112.599609</td>\n",
       "      <td>17983.050781</td>\n",
       "      <td>18044.250000</td>\n",
       "      <td>18044.250000</td>\n",
       "      <td>270200.0</td>\n",
       "      <td>18917600.0</td>\n",
       "      <td>1.953974e+07</td>\n",
       "      <td>NaN</td>\n",
       "    </tr>\n",
       "    <tr>\n",
       "      <th>242</th>\n",
       "      <td>2021-11-10</td>\n",
       "      <td>17973.449219</td>\n",
       "      <td>18061.250000</td>\n",
       "      <td>17915.000000</td>\n",
       "      <td>18017.199219</td>\n",
       "      <td>18017.199219</td>\n",
       "      <td>261400.0</td>\n",
       "      <td>18656200.0</td>\n",
       "      <td>1.945559e+07</td>\n",
       "      <td>NaN</td>\n",
       "    </tr>\n",
       "    <tr>\n",
       "      <th>243</th>\n",
       "      <td>2021-11-11</td>\n",
       "      <td>17967.449219</td>\n",
       "      <td>17971.349609</td>\n",
       "      <td>17798.199219</td>\n",
       "      <td>17873.599609</td>\n",
       "      <td>17873.599609</td>\n",
       "      <td>232100.0</td>\n",
       "      <td>18424100.0</td>\n",
       "      <td>1.935736e+07</td>\n",
       "      <td>NaN</td>\n",
       "    </tr>\n",
       "    <tr>\n",
       "      <th>244</th>\n",
       "      <td>2021-11-12</td>\n",
       "      <td>17977.599609</td>\n",
       "      <td>18123.000000</td>\n",
       "      <td>17905.900391</td>\n",
       "      <td>18102.750000</td>\n",
       "      <td>18102.750000</td>\n",
       "      <td>249100.0</td>\n",
       "      <td>18673200.0</td>\n",
       "      <td>1.929220e+07</td>\n",
       "      <td>NaN</td>\n",
       "    </tr>\n",
       "  </tbody>\n",
       "</table>\n",
       "<p>245 rows × 10 columns</p>\n",
       "</div>"
      ],
      "text/plain": [
       "           Date          Open          High           Low         Close  \\\n",
       "0    2020-11-17  12932.500000  12934.049805  12797.099609  12874.200195   \n",
       "1    2020-11-18  12860.099609  12948.849609  12819.349609  12938.250000   \n",
       "2    2020-11-19  12839.500000  12963.000000  12745.750000  12771.700195   \n",
       "3    2020-11-20  12813.400391  12892.450195  12730.250000  12859.049805   \n",
       "4    2020-11-23  12960.299805  12968.849609  12825.700195  12926.450195   \n",
       "..          ...           ...           ...           ...           ...   \n",
       "240  2021-11-08  18040.199219  18087.800781  17836.099609  18068.550781   \n",
       "241  2021-11-09  18084.349609  18112.599609  17983.050781  18044.250000   \n",
       "242  2021-11-10  17973.449219  18061.250000  17915.000000  18017.199219   \n",
       "243  2021-11-11  17967.449219  17971.349609  17798.199219  17873.599609   \n",
       "244  2021-11-12  17977.599609  18123.000000  17905.900391  18102.750000   \n",
       "\n",
       "        Adj Close    Volume         obv       obv_ema    Prediction  \n",
       "0    12874.200195  707700.0         0.0  0.000000e+00  13113.750000  \n",
       "1    12938.250000  731300.0    731300.0  3.839325e+05  13133.900391  \n",
       "2    12771.700195  768800.0    -37500.0  2.291850e+05  13258.549805  \n",
       "3    12859.049805  664000.0    626500.0  3.438837e+05  13355.750000  \n",
       "4    12926.450195  633100.0   1259600.0  5.653877e+05  13392.950195  \n",
       "..            ...       ...         ...           ...           ...  \n",
       "240  18068.550781  338900.0  19187800.0  1.960523e+07           NaN  \n",
       "241  18044.250000  270200.0  18917600.0  1.953974e+07           NaN  \n",
       "242  18017.199219  261400.0  18656200.0  1.945559e+07           NaN  \n",
       "243  17873.599609  232100.0  18424100.0  1.935736e+07           NaN  \n",
       "244  18102.750000  249100.0  18673200.0  1.929220e+07           NaN  \n",
       "\n",
       "[245 rows x 10 columns]"
      ]
     },
     "execution_count": 324,
     "metadata": {},
     "output_type": "execute_result"
    }
   ],
   "source": [
    "nifty"
   ]
  },
  {
   "cell_type": "code",
   "execution_count": 330,
   "metadata": {},
   "outputs": [
    {
     "name": "stdout",
     "output_type": "stream",
     "text": [
      "242    18656200.0\n",
      "243    18424100.0\n",
      "244    18673200.0\n",
      "Name: obv, dtype: float64\n",
      "242    18017.199219\n",
      "243    17873.599609\n",
      "244    18102.750000\n",
      "Name: Close, dtype: float64\n"
     ]
    }
   ],
   "source": [
    "latest_obv=nifty['obv'].tail(3)\n",
    "print(latest_obv)\n",
    "latest_close=nifty['Close'].tail(3)\n",
    "print(latest_close)"
   ]
  },
  {
   "cell_type": "code",
   "execution_count": 278,
   "metadata": {},
   "outputs": [],
   "source": [
    "\n",
    "nifty = nifty[nifty['Prediction'].notna()]"
   ]
  },
  {
   "cell_type": "code",
   "execution_count": 279,
   "metadata": {},
   "outputs": [
    {
     "name": "stdout",
     "output_type": "stream",
     "text": [
      "(233,)\n",
      "(233,)\n",
      "(233, 1)\n"
     ]
    }
   ],
   "source": [
    "x=nifty['obv']#feature data dataset\n",
    "x=np.array(x)\n",
    "y=nifty['Prediction']\n",
    "y=np.array(y)\n",
    "print(x.shape)\n",
    "print(y.shape)\n",
    "x=x.reshape(-1,1)\n",
    "print(x.shape)"
   ]
  },
  {
   "cell_type": "code",
   "execution_count": 280,
   "metadata": {},
   "outputs": [],
   "source": [
    "#spliting the data\n",
    "x_train,x_test,y_train,y_test=train_test_split(x,y,test_size=0.1)\n",
    "x_train=x_train.reshape(-1,1)"
   ]
  },
  {
   "cell_type": "code",
   "execution_count": 281,
   "metadata": {},
   "outputs": [
    {
     "data": {
      "text/plain": [
       "LinearRegression()"
      ]
     },
     "execution_count": 281,
     "metadata": {},
     "output_type": "execute_result"
    }
   ],
   "source": [
    "#Create the model\n",
    "model=LinearRegression()\n",
    "model.fit(x_train,y_train)"
   ]
  },
  {
   "cell_type": "code",
   "execution_count": 282,
   "metadata": {},
   "outputs": [
    {
     "name": "stdout",
     "output_type": "stream",
     "text": [
      "[17443.54355003 17138.03940835 12663.06029146 14888.63099294\n",
      " 16451.29530245 14521.9933312  17389.00286056 16182.59659107\n",
      " 15016.72805681 15641.11270307 15092.27317763 13343.810915\n",
      " 17677.69800854 14904.86788151 16207.85094628 16167.58564207\n",
      " 17306.56523503 12311.1883908  14753.06931923 16096.91703644\n",
      " 14834.71689481 17210.96919141 14773.33818684 14888.63099294]\n",
      "[15026.09968377 15417.44683868 16271.49083169 15526.60994692\n",
      " 14921.05028388 17138.47529797 14215.42670856 16461.59319487\n",
      " 17563.63114201 15301.60917055 16073.70591386 16314.09904264\n",
      " 15019.64306868 17139.75572375 14882.17437785 16202.67475697\n",
      " 17273.08346313 15027.89772847 15182.99270605 14987.38723635\n",
      " 14724.70925043 14469.27792955 15851.75636487 15395.40716947\n",
      " 12153.88672199 16319.60214917 16202.12989494 17252.86908172\n",
      " 15774.05903902 13329.97141937 14678.9953259  15179.77802006\n",
      " 13544.56533091 16527.63047322 14887.24159476 15404.3156637\n",
      " 16092.8850574  13480.73474379 15916.26802953 14750.50846767\n",
      " 16615.32601737 17200.8075145  14839.02130487 15063.17754509\n",
      " 15076.63563729 15052.44376304 12164.1028851  17770.70595751\n",
      " 15072.60365825 17137.93043594 16015.16048845 16206.4615481\n",
      " 17825.21940387 17231.45600384 12363.33168732 15666.14911347\n",
      " 15059.66318497 14340.39081573 16083.89483387 16098.71508115\n",
      " 14813.16760142 16318.81209922 16192.67653868 14688.14900804\n",
      " 15739.89618958 15548.29545581 14501.23408776 14643.06167485\n",
      " 17305.20307995 17049.39035564 16373.5162473  14640.90946982\n",
      " 12334.78091682 14213.00207251 14898.71094054 14891.2735738\n",
      " 16134.97564942 16020.25494846 16374.11559553 15208.90089571\n",
      " 14991.582674   14903.56021263 13958.17009986 16751.48703931\n",
      " 15203.20708746 17678.46081539 12627.86220415 17073.7184454\n",
      " 15330.37788587 15471.82406954 16206.76122222 15499.33960219\n",
      " 14823.05684732 15182.82924745 15195.3610742  16368.91216312\n",
      " 17540.42001943 16375.58672302 15703.33594719 15228.40695647\n",
      " 15513.66947364 14468.81479682 14578.767955   17679.38708084\n",
      " 15544.26347677 15731.47807118 16158.59541854 16032.45985799\n",
      " 17132.69976043 14921.07752698 14678.9953259  15229.63289605\n",
      " 14842.50842188 16696.94634985 13034.6289546  14264.08288807\n",
      " 16172.65285898 15571.56106461 14655.702474   17577.44339454\n",
      " 15306.07703922 15225.41021529 16823.92644655 13696.69081041\n",
      " 13195.82638694 15956.36987513 16236.21101508 16952.21421213\n",
      " 16199.51455718 16091.38668681 16037.77226281 15573.52256792\n",
      " 15319.34442971 16143.12133681 15007.35642984 16297.12659033\n",
      " 15162.0972471  15483.29341533 17341.1639741  15395.16198155\n",
      " 15430.57801367 14678.9953259  16158.59541854 17203.72252638\n",
      " 16601.37754933 15016.72805681 15928.36396666 16088.47167494\n",
      " 16092.53089708 17206.77375376 16099.88653452 16304.61844327\n",
      " 12470.17913192 16288.4087978  15053.72418882 17129.97545026\n",
      " 17212.82172232 16211.06563228 16094.98277623 15282.07586668\n",
      " 15995.49096908 15389.46817331 16280.45381213 15060.64393663\n",
      " 17497.43040505 15406.30441012 17318.77014456 12507.25699324\n",
      " 17852.92563823 14698.52862976 16204.88144821 16231.6069309\n",
      " 17155.96536922 15031.24862997 17953.23473843 16266.47810099\n",
      " 14738.24907194 15092.10971902 14869.28839078 15956.36987513\n",
      " 17751.77200187 14802.24311767 17443.67976554 14921.10477008\n",
      " 14488.5660455  15023.75677703 16892.98770918 15928.79985628\n",
      " 16684.52349551 15437.85192181 15156.975544   15564.50510128\n",
      " 16160.93832528 12665.70287232 13832.25248413 15284.22807171\n",
      " 16086.31946991 17235.8421432  15048.4662702  16765.54447976\n",
      " 16676.45953743 17416.87255353 14025.76023501 12478.07963139\n",
      " 12860.13688865 17246.30349423 16091.0870127  17029.44840525\n",
      " 17311.87763985]\n"
     ]
    }
   ],
   "source": [
    "#Create the predictions on the test data\n",
    "prediction=model.predict(x_test)\n",
    "#print the prediction\n",
    "print(prediction)\n",
    "prediction_train=model.predict(x_train)\n",
    "print(prediction_train)\n",
    "\n",
    "\n",
    "\n"
   ]
  },
  {
   "cell_type": "code",
   "execution_count": 283,
   "metadata": {},
   "outputs": [
    {
     "name": "stdout",
     "output_type": "stream",
     "text": [
      "0.8669605643545966\n",
      "0.8413440294949454\n"
     ]
    }
   ],
   "source": [
    "error_score=metrics.r2_score(y_test,prediction)\n",
    "print(error_score)\n",
    "\n",
    "error_score_train=metrics.r2_score(y_train,prediction_train)\n",
    "print(error_score_train)"
   ]
  },
  {
   "cell_type": "code",
   "execution_count": 284,
   "metadata": {},
   "outputs": [
    {
     "data": {
      "text/plain": [
       "(209, 1)"
      ]
     },
     "execution_count": 284,
     "metadata": {},
     "output_type": "execute_result"
    }
   ],
   "source": [
    "x_train.shape"
   ]
  },
  {
   "cell_type": "code",
   "execution_count": 285,
   "metadata": {},
   "outputs": [
    {
     "data": {
      "text/plain": [
       "(209,)"
      ]
     },
     "execution_count": 285,
     "metadata": {},
     "output_type": "execute_result"
    }
   ],
   "source": [
    "y_train.shape\n"
   ]
  },
  {
   "cell_type": "code",
   "execution_count": 264,
   "metadata": {},
   "outputs": [
    {
     "name": "stdout",
     "output_type": "stream",
     "text": [
      "[15885.150391 14724.799805 14653.049805 15727.900391 13682.700195\n",
      " 14789.950195 14696.5      18338.550781 17711.300781 15834.349609\n",
      " 15632.099609 15574.849609 14867.349609 18477.050781 14942.349609\n",
      " 14919.099609 15097.349609 13558.150391 17519.449219 15924.200195\n",
      " 13133.900391 14238.900391 17855.099609 13873.200195]\n",
      "[16165.11703312 15182.97698378 15004.24484152 16294.77403989\n",
      " 12609.92689542 15213.54156563 15422.22866073 17153.54734546\n",
      " 17330.39517987 16197.39966037 16095.89642981 15699.66528218\n",
      " 14903.96086898 17068.80891274 15170.3964578  15217.83667912\n",
      " 15429.6273401  12249.3313346  17177.2120353  16076.38830141\n",
      " 12302.36905868 14820.52482551 17158.97858575 13503.86471084]\n"
     ]
    }
   ],
   "source": [
    "print(y_test)\n",
    "print(prediction)"
   ]
  },
  {
   "cell_type": "code",
   "execution_count": 265,
   "metadata": {},
   "outputs": [
    {
     "data": {
      "text/plain": [
       "<bound method NDFrame.tail of            Date          Open          High           Low         Close  \\\n",
       "1    2020-11-18  12860.099609  12948.849609  12819.349609  12938.250000   \n",
       "2    2020-11-19  12839.500000  12963.000000  12745.750000  12771.700195   \n",
       "3    2020-11-20  12813.400391  12892.450195  12730.250000  12859.049805   \n",
       "4    2020-11-23  12960.299805  12968.849609  12825.700195  12926.450195   \n",
       "5    2020-11-24  13002.599609  13079.099609  12978.000000  13055.150391   \n",
       "..          ...           ...           ...           ...           ...   \n",
       "230  2021-10-22  18230.699219  18314.250000  18034.349609  18114.900391   \n",
       "231  2021-10-25  18229.500000  18241.400391  17968.500000  18125.400391   \n",
       "232  2021-10-26  18154.500000  18310.449219  18099.300781  18268.400391   \n",
       "233  2021-10-27  18295.849609  18342.050781  18167.900391  18210.949219   \n",
       "234  2021-10-28  18187.650391  18190.699219  17799.449219  17857.250000   \n",
       "\n",
       "        Adj Close    Volume         obv       obv_ema    Prediction  \n",
       "1    12938.250000  731300.0    731300.0  3.839325e+05  13133.900391  \n",
       "2    12771.700195  768800.0    -37500.0  2.291850e+05  13258.549805  \n",
       "3    12859.049805  664000.0    626500.0  3.438837e+05  13355.750000  \n",
       "4    12926.450195  633100.0   1259600.0  5.653877e+05  13392.950195  \n",
       "5    13055.150391  571900.0   1831500.0  8.324796e+05  13529.099609  \n",
       "..            ...       ...         ...           ...           ...  \n",
       "230  18114.900391  324700.0  19819800.0  1.959111e+07  18068.550781  \n",
       "231  18125.400391  418700.0  20238500.0  1.965276e+07  18044.250000  \n",
       "232  18268.400391  341400.0  20579900.0  1.974106e+07  18017.199219  \n",
       "233  18210.949219  335200.0  20244700.0  1.978903e+07  17873.599609  \n",
       "234  17857.250000  374200.0  19870500.0  1.979679e+07  18102.750000  \n",
       "\n",
       "[232 rows x 10 columns]>"
      ]
     },
     "execution_count": 265,
     "metadata": {},
     "output_type": "execute_result"
    }
   ],
   "source": []
  },
  {
   "cell_type": "code",
   "execution_count": null,
   "metadata": {},
   "outputs": [],
   "source": []
  },
  {
   "cell_type": "code",
   "execution_count": 331,
   "metadata": {},
   "outputs": [
    {
     "data": {
      "text/plain": [
       "array([17246.63041144, 17183.39917256, 17251.26173872])"
      ]
     },
     "execution_count": 331,
     "metadata": {},
     "output_type": "execute_result"
    }
   ],
   "source": [
    "Current_Price=latest_obv\n",
    "x_train=[Current_Price]\n",
    "x_train=np.array(x_train)\n",
    "x_train=x_train.reshape(-1,1)\n",
    "latest_prediction=model.predict(x_train)\n",
    "latest_prediction"
   ]
  },
  {
   "cell_type": "code",
   "execution_count": 332,
   "metadata": {},
   "outputs": [
    {
     "data": {
      "image/png": "[encoded data removed]",
      "text/plain": [
       "<Figure size 432x288 with 1 Axes>"
      ]
     },
     "metadata": {},
     "output_type": "display_data"
    }
   ],
   "source": [
    "current_price=latest_close\n",
    "plt.plot(latest_prediction)\n",
    "plt.plot(current_price)\n",
    "plt.ylabel('Price')\n",
    "plt.xlabel('Prediction')\n",
    "plt.title('Prediction based on obv')\n",
    "plt.show()"
   ]
  },
  {
   "cell_type": "code",
   "execution_count": 316,
   "metadata": {},
   "outputs": [],
   "source": [
    "#Red Line is current price\n",
    "#Blue Line is prediction after 10 days"
   ]
  },
  {
   "cell_type": "code",
   "execution_count": 318,
   "metadata": {},
   "outputs": [
    {
     "data": {
      "text/html": [
       "<div>\n",
       "<style scoped>\n",
       "    .dataframe tbody tr th:only-of-type {\n",
       "        vertical-align: middle;\n",
       "    }\n",
       "\n",
       "    .dataframe tbody tr th {\n",
       "        vertical-align: top;\n",
       "    }\n",
       "\n",
       "    .dataframe thead th {\n",
       "        text-align: right;\n",
       "    }\n",
       "</style>\n",
       "<table border=\"1\" class=\"dataframe\">\n",
       "  <thead>\n",
       "    <tr style=\"text-align: right;\">\n",
       "      <th></th>\n",
       "      <th>Date</th>\n",
       "      <th>Open</th>\n",
       "      <th>High</th>\n",
       "      <th>Low</th>\n",
       "      <th>Close</th>\n",
       "      <th>Adj Close</th>\n",
       "      <th>Volume</th>\n",
       "      <th>obv</th>\n",
       "      <th>obv_ema</th>\n",
       "      <th>Prediction</th>\n",
       "    </tr>\n",
       "  </thead>\n",
       "  <tbody>\n",
       "    <tr>\n",
       "      <th>230</th>\n",
       "      <td>2021-10-22</td>\n",
       "      <td>18230.699219</td>\n",
       "      <td>18314.250000</td>\n",
       "      <td>18034.349609</td>\n",
       "      <td>18114.900391</td>\n",
       "      <td>18114.900391</td>\n",
       "      <td>324700.0</td>\n",
       "      <td>19819800.0</td>\n",
       "      <td>1.959111e+07</td>\n",
       "      <td>18068.550781</td>\n",
       "    </tr>\n",
       "    <tr>\n",
       "      <th>231</th>\n",
       "      <td>2021-10-25</td>\n",
       "      <td>18229.500000</td>\n",
       "      <td>18241.400391</td>\n",
       "      <td>17968.500000</td>\n",
       "      <td>18125.400391</td>\n",
       "      <td>18125.400391</td>\n",
       "      <td>418700.0</td>\n",
       "      <td>20238500.0</td>\n",
       "      <td>1.965276e+07</td>\n",
       "      <td>18044.250000</td>\n",
       "    </tr>\n",
       "    <tr>\n",
       "      <th>232</th>\n",
       "      <td>2021-10-26</td>\n",
       "      <td>18154.500000</td>\n",
       "      <td>18310.449219</td>\n",
       "      <td>18099.300781</td>\n",
       "      <td>18268.400391</td>\n",
       "      <td>18268.400391</td>\n",
       "      <td>341400.0</td>\n",
       "      <td>20579900.0</td>\n",
       "      <td>1.974106e+07</td>\n",
       "      <td>18017.199219</td>\n",
       "    </tr>\n",
       "    <tr>\n",
       "      <th>233</th>\n",
       "      <td>2021-10-27</td>\n",
       "      <td>18295.849609</td>\n",
       "      <td>18342.050781</td>\n",
       "      <td>18167.900391</td>\n",
       "      <td>18210.949219</td>\n",
       "      <td>18210.949219</td>\n",
       "      <td>335200.0</td>\n",
       "      <td>20244700.0</td>\n",
       "      <td>1.978903e+07</td>\n",
       "      <td>17873.599609</td>\n",
       "    </tr>\n",
       "    <tr>\n",
       "      <th>234</th>\n",
       "      <td>2021-10-28</td>\n",
       "      <td>18187.650391</td>\n",
       "      <td>18190.699219</td>\n",
       "      <td>17799.449219</td>\n",
       "      <td>17857.250000</td>\n",
       "      <td>17857.250000</td>\n",
       "      <td>374200.0</td>\n",
       "      <td>19870500.0</td>\n",
       "      <td>1.979679e+07</td>\n",
       "      <td>18102.750000</td>\n",
       "    </tr>\n",
       "  </tbody>\n",
       "</table>\n",
       "</div>"
      ],
      "text/plain": [
       "           Date          Open          High           Low         Close  \\\n",
       "230  2021-10-22  18230.699219  18314.250000  18034.349609  18114.900391   \n",
       "231  2021-10-25  18229.500000  18241.400391  17968.500000  18125.400391   \n",
       "232  2021-10-26  18154.500000  18310.449219  18099.300781  18268.400391   \n",
       "233  2021-10-27  18295.849609  18342.050781  18167.900391  18210.949219   \n",
       "234  2021-10-28  18187.650391  18190.699219  17799.449219  17857.250000   \n",
       "\n",
       "        Adj Close    Volume         obv       obv_ema    Prediction  \n",
       "230  18114.900391  324700.0  19819800.0  1.959111e+07  18068.550781  \n",
       "231  18125.400391  418700.0  20238500.0  1.965276e+07  18044.250000  \n",
       "232  18268.400391  341400.0  20579900.0  1.974106e+07  18017.199219  \n",
       "233  18210.949219  335200.0  20244700.0  1.978903e+07  17873.599609  \n",
       "234  17857.250000  374200.0  19870500.0  1.979679e+07  18102.750000  "
      ]
     },
     "execution_count": 318,
     "metadata": {},
     "output_type": "execute_result"
    }
   ],
   "source": [
    "nifty.tail(5)"
   ]
  },
  {
   "cell_type": "code",
   "execution_count": null,
   "metadata": {},
   "outputs": [],
   "source": []
  }
 ],
 "metadata": {
  "kernelspec": {
   "display_name": "Python 3",
   "language": "python",
   "name": "python3"
  },
  "language_info": {
   "codemirror_mode": {
    "name": "ipython",
    "version": 3
   },
   "file_extension": ".py",
   "mimetype": "text/x-python",
   "name": "python",
   "nbconvert_exporter": "python",
   "pygments_lexer": "ipython3",
   "version": "3.8.5"
  }
 },
 "nbformat": 4,
 "nbformat_minor": 4
}
