{
 "cells": [
  {
   "cell_type": "code",
   "execution_count": 1,
   "metadata": {},
   "outputs": [],
   "source": [
    "#i\n",
    "import numpy as np\n",
    "import pandas as pd\n",
    "import matplotlib.pyplot as plt\n",
    "import matplotlib.dates as mdates\n",
    "%matplotlib inline\n",
    "import datetime as dt\n",
    "import time\n",
    "import yfinance as yf"
   ]
  },
  {
   "cell_type": "code",
   "execution_count": 2,
   "metadata": {},
   "outputs": [],
   "source": [
    "def get_info_on_stock(ticker):\n",
    "    stock=yf.Ticker(ticker)\n",
    "    print(stock.info)"
   ]
  },
  {
   "cell_type": "code",
   "execution_count": 4,
   "metadata": {},
   "outputs": [
    {
     "name": "stdout",
     "output_type": "stream",
     "text": [
      "{'zip': '5039', 'sector': 'Utilities', 'longBusinessSummary': '1414 Degrees Limited offers silicon-based thermal energy storage systems for networks and industries in Australia. It provides heat and electricity from renewable energy sources. The company was formerly known as Latent Heat Storage Pty Ltd and changed its name to 1414 Degrees Limited in December 2016. 1414 Degrees Limited was incorporated in 2009 and is based in Melrose Park, Australia.', 'city': 'Melrose Park', 'phone': '61 8 8357 8273', 'state': 'SA', 'country': 'Australia', 'companyOfficers': [], 'website': 'http://1414degrees.com.au', 'maxAge': 1, 'address1': '136 Daws Road', 'industry': 'Utilities—Independent Power Producers', 'ebitdaMargins': 0, 'profitMargins': 0, 'grossMargins': 1, 'operatingCashflow': -2393455, 'revenueGrowth': None, 'operatingMargins': -6.1708302, 'ebitda': -2969202, 'targetLowPrice': None, 'recommendationKey': 'none', 'grossProfits': None, 'freeCashflow': -1790165, 'targetMedianPrice': None, 'currentPrice': 0.135, 'earningsGrowth': None, 'currentRatio': 6.364, 'returnOnAssets': -0.1273, 'numberOfAnalystOpinions': None, 'targetMeanPrice': None, 'debtToEquity': 13.621, 'returnOnEquity': -0.46623, 'targetHighPrice': None, 'totalCash': 5704957, 'totalDebt': 1570232, 'totalRevenue': 486553, 'totalCashPerShare': 0.028, 'financialCurrency': 'AUD', 'revenuePerShare': 0.003, 'quickRatio': 6.233, 'recommendationMean': None, 'exchange': 'ASX', 'shortName': '1414DEGREE FPO', 'longName': '1414 Degrees Limited', 'exchangeTimezoneName': 'Australia/Sydney', 'exchangeTimezoneShortName': 'AEDT', 'isEsgPopulated': False, 'gmtOffSetMilliseconds': '39600000', 'quoteType': 'EQUITY', 'symbol': '14D.AX', 'messageBoardId': 'finmb_550418331', 'market': 'au_market', 'annualHoldingsTurnover': None, 'enterpriseToRevenue': 49.211, 'beta3Year': None, 'enterpriseToEbitda': -8.064, '52WeekChange': -0.3076923, 'morningStarRiskRating': None, 'forwardEps': None, 'revenueQuarterlyGrowth': None, 'sharesOutstanding': 200560000, 'fundInceptionDate': None, 'annualReportExpenseRatio': None, 'totalAssets': None, 'bookValue': 0.058, 'sharesShort': None, 'sharesPercentSharesOut': None, 'fundFamily': None, 'lastFiscalYearEnd': 1625011200, 'heldPercentInstitutions': 0, 'netIncomeToCommon': -5974178, 'trailingEps': -0.031, 'lastDividendValue': None, 'SandP52WeekChange': 0.32609224, 'priceToBook': 2.3275864, 'heldPercentInsiders': 0.31791002, 'nextFiscalYearEnd': 1688083200, 'yield': None, 'mostRecentQuarter': 1625011200, 'shortRatio': None, 'sharesShortPreviousMonthDate': None, 'floatShares': 143831932, 'beta': 1.276612, 'enterpriseValue': 23943740, 'priceHint': 4, 'threeYearAverageReturn': None, 'lastSplitDate': None, 'lastSplitFactor': None, 'legalType': None, 'lastDividendDate': None, 'morningStarOverallRating': None, 'earningsQuarterlyGrowth': None, 'priceToSalesTrailing12Months': 55.647797, 'dateShortInterest': None, 'pegRatio': None, 'ytdReturn': None, 'forwardPE': None, 'lastCapGain': None, 'shortPercentOfFloat': None, 'sharesShortPriorMonth': None, 'impliedSharesOutstanding': 200310000, 'category': None, 'fiveYearAverageReturn': None, 'previousClose': 0.135, 'regularMarketOpen': 0.135, 'twoHundredDayAverage': 0.12752113, 'trailingAnnualDividendYield': None, 'payoutRatio': 0, 'volume24Hr': None, 'regularMarketDayHigh': 0.14, 'navPrice': None, 'averageDailyVolume10Day': 168415, 'regularMarketPreviousClose': 0.135, 'fiftyDayAverage': 0.121216215, 'trailingAnnualDividendRate': None, 'open': 0.135, 'toCurrency': None, 'averageVolume10days': 168415, 'expireDate': None, 'algorithm': None, 'dividendRate': None, 'exDividendDate': None, 'circulatingSupply': None, 'startDate': None, 'regularMarketDayLow': 0.135, 'currency': 'AUD', 'regularMarketVolume': 105822, 'lastMarket': None, 'maxSupply': None, 'openInterest': None, 'marketCap': 27075602, 'volumeAllCurrencies': None, 'strikePrice': None, 'averageVolume': 250980, 'dayLow': 0.135, 'ask': 0.135, 'askSize': 163900, 'volume': 105822, 'fiftyTwoWeekHigh': 0.365, 'fromCurrency': None, 'fiveYearAvgDividendYield': None, 'fiftyTwoWeekLow': 0.088, 'bid': 0.13, 'tradeable': False, 'dividendYield': None, 'bidSize': 1260000, 'dayHigh': 0.14, 'regularMarketPrice': 0.135, 'preMarketPrice': None, 'logo_url': 'https://logo.clearbit.com/1414degrees.com.au'}\n"
     ]
    }
   ],
   "source": [
    "get_info_on_stock('14D.AX')"
   ]
  },
  {
   "cell_type": "code",
   "execution_count": 5,
   "metadata": {},
   "outputs": [],
   "source": [
    "#getting historical data\n",
    "def get_hist_on_stock(ticker):\n",
    "    stock=yf.Ticker(ticker)\n",
    "    hist=stock.history(period='max')['Close']\n",
    "    print(hist.head())\n",
    "    "
   ]
  },
  {
   "cell_type": "code",
   "execution_count": 11,
   "metadata": {},
   "outputs": [
    {
     "name": "stdout",
     "output_type": "stream",
     "text": [
      "Date\n",
      "1986-03-13    0.061491\n",
      "1986-03-14    0.063687\n",
      "1986-03-17    0.064785\n",
      "1986-03-18    0.063138\n",
      "1986-03-19    0.062040\n",
      "Name: Close, dtype: float64\n"
     ]
    }
   ],
   "source": [
    "#calling the function\n",
    "get_hist_on_stock('MSFT')"
   ]
  },
  {
   "cell_type": "code",
   "execution_count": 7,
   "metadata": {},
   "outputs": [],
   "source": [
    "#getting financial data\n",
    "def get_financial_on_stock(ticker):\n",
    "    stock=yf.Ticker(ticker)\n",
    "    print(stock.financials)"
   ]
  },
  {
   "cell_type": "code",
   "execution_count": 12,
   "metadata": {},
   "outputs": [
    {
     "name": "stdout",
     "output_type": "stream",
     "text": [
      "                                         2021-06-30   2020-06-30   2019-06-30  \\\n",
      "Research Development                     2.0716e+10   1.9269e+10   1.6876e+10   \n",
      "Effect Of Accounting Charges                   None         None         None   \n",
      "Income Before Tax                        7.1102e+10   5.3036e+10   4.3688e+10   \n",
      "Minority Interest                              None         None         None   \n",
      "Net Income                               6.1271e+10   4.4281e+10    3.924e+10   \n",
      "Selling General Administrative           2.5224e+10   2.4523e+10   2.3098e+10   \n",
      "Gross Profit                            1.15856e+11   9.6937e+10   8.2933e+10   \n",
      "Ebit                                     6.9916e+10   5.3145e+10   4.2959e+10   \n",
      "Operating Income                         6.9916e+10   5.3145e+10   4.2959e+10   \n",
      "Other Operating Expenses                       None         None         None   \n",
      "Interest Expense                          -2.33e+09   -2.591e+09   -2.686e+09   \n",
      "Extraordinary Items                            None         None         None   \n",
      "Non Recurring                                  None         None         None   \n",
      "Other Items                                    None         None         None   \n",
      "Income Tax Expense                        9.831e+09    8.755e+09    4.448e+09   \n",
      "Total Revenue                           1.68088e+11  1.43015e+11  1.25843e+11   \n",
      "Total Operating Expenses                 9.8172e+10    8.987e+10   8.2884e+10   \n",
      "Cost Of Revenue                          5.2232e+10   4.6078e+10    4.291e+10   \n",
      "Total Other Income Expense Net            1.186e+09    -1.09e+08     7.29e+08   \n",
      "Discontinued Operations                        None         None         None   \n",
      "Net Income From Continuing Ops           6.1271e+10   4.4281e+10    3.924e+10   \n",
      "Net Income Applicable To Common Shares   6.1271e+10   4.4281e+10    3.924e+10   \n",
      "\n",
      "                                        2018-06-30  \n",
      "Research Development                    1.4726e+10  \n",
      "Effect Of Accounting Charges                  None  \n",
      "Income Before Tax                       3.6474e+10  \n",
      "Minority Interest                             None  \n",
      "Net Income                              1.6571e+10  \n",
      "Selling General Administrative          2.2223e+10  \n",
      "Gross Profit                            7.2007e+10  \n",
      "Ebit                                    3.5058e+10  \n",
      "Operating Income                        3.5058e+10  \n",
      "Other Operating Expenses                      None  \n",
      "Interest Expense                        -2.733e+09  \n",
      "Extraordinary Items                           None  \n",
      "Non Recurring                                 None  \n",
      "Other Items                                   None  \n",
      "Income Tax Expense                      1.9903e+10  \n",
      "Total Revenue                           1.1036e+11  \n",
      "Total Operating Expenses                7.5302e+10  \n",
      "Cost Of Revenue                         3.8353e+10  \n",
      "Total Other Income Expense Net           1.416e+09  \n",
      "Discontinued Operations                       None  \n",
      "Net Income From Continuing Ops          1.6571e+10  \n",
      "Net Income Applicable To Common Shares  1.6571e+10  \n"
     ]
    }
   ],
   "source": [
    "get_financial_on_stock('MSFT')"
   ]
  },
  {
   "cell_type": "code",
   "execution_count": 9,
   "metadata": {},
   "outputs": [],
   "source": [
    "#major shareholder data\n",
    "def get_shareholder_on_stock(ticker):\n",
    "    stock=yf.Ticker(ticker)\n",
    "    print(stock.major_holders)\n",
    "    "
   ]
  },
  {
   "cell_type": "code",
   "execution_count": 10,
   "metadata": {},
   "outputs": [
    {
     "name": "stdout",
     "output_type": "stream",
     "text": [
      "        0                                      1\n",
      "0   0.08%        % of Shares Held by All Insider\n",
      "1  71.96%       % of Shares Held by Institutions\n",
      "2  72.01%        % of Float Held by Institutions\n",
      "3    5331  Number of Institutions Holding Shares\n"
     ]
    }
   ],
   "source": [
    "get_shareholder_on_stock('MSFT')"
   ]
  },
  {
   "cell_type": "code",
   "execution_count": 13,
   "metadata": {},
   "outputs": [],
   "source": [
    "#institutional holding\n",
    "def get_institution_on_stock(ticker):\n",
    "    stock=yf.Ticker(ticker)\n",
    "    print(stock.institutional_holders)\n",
    "    "
   ]
  },
  {
   "cell_type": "code",
   "execution_count": 14,
   "metadata": {},
   "outputs": [
    {
     "name": "stdout",
     "output_type": "stream",
     "text": [
      "                              Holder     Shares Date Reported   % Out  \\\n",
      "0         Vanguard Group, Inc. (The)  610974647    2021-06-29  0.0814   \n",
      "1                     Blackrock Inc.  505662500    2021-06-29  0.0674   \n",
      "2           State Street Corporation  294824958    2021-06-29  0.0393   \n",
      "3                           FMR, LLC  218007132    2021-06-29  0.0290   \n",
      "4      Price (T.Rowe) Associates Inc  192408922    2021-06-29  0.0256   \n",
      "5      Geode Capital Management, LLC  123322145    2021-06-29  0.0164   \n",
      "6            Capital World Investors  110830050    2021-06-29  0.0148   \n",
      "7  Capital Research Global Investors   94576657    2021-06-29  0.0126   \n",
      "8    Capital International Investors   92898047    2021-06-29  0.0124   \n",
      "9         Northern Trust Corporation   88583941    2021-06-29  0.0118   \n",
      "\n",
      "          Value  \n",
      "0  165513031872  \n",
      "1  136983971250  \n",
      "2   79868081122  \n",
      "3   59058132058  \n",
      "4   52123576969  \n",
      "5   33407969080  \n",
      "6   30023860545  \n",
      "7   25620816381  \n",
      "8   25166080932  \n",
      "9   23997389616  \n"
     ]
    }
   ],
   "source": [
    "get_institution_on_stock('MSFT')"
   ]
  },
  {
   "cell_type": "code",
   "execution_count": 15,
   "metadata": {},
   "outputs": [],
   "source": [
    "# Balance Sheet information\n",
    "def get_balancesheet_on_stock(ticker):\n",
    "    stock=yf.Ticker(ticker)\n",
    "    print(stock.balance_sheet)\n",
    "    "
   ]
  },
  {
   "cell_type": "code",
   "execution_count": 16,
   "metadata": {},
   "outputs": [
    {
     "name": "stdout",
     "output_type": "stream",
     "text": [
      "                                    2021-06-30    2020-06-30    2019-06-30  \\\n",
      "Intangible Assets                 7.800000e+09  7.038000e+09  7.750000e+09   \n",
      "Total Liab                        1.917910e+11  1.830070e+11  1.842260e+11   \n",
      "Total Stockholder Equity          1.419880e+11  1.183040e+11  1.023300e+11   \n",
      "Other Current Liab                5.261200e+10  4.600100e+10  4.586000e+10   \n",
      "Total Assets                      3.337790e+11  3.013110e+11  2.865560e+11   \n",
      "Common Stock                      8.311100e+10  8.055200e+10  7.852000e+10   \n",
      "Other Current Assets              1.347100e+10  1.151700e+10  1.013300e+10   \n",
      "Retained Earnings                 5.705500e+10  3.456600e+10  2.415000e+10   \n",
      "Other Liab                        3.168100e+10  3.449200e+10  3.569900e+10   \n",
      "Good Will                         4.971100e+10  4.335100e+10  4.202600e+10   \n",
      "Treasury Stock                    1.822000e+09  3.186000e+09 -3.400000e+08   \n",
      "Other Assets                      1.507500e+10  1.313800e+10  1.472300e+10   \n",
      "Cash                              1.422400e+10  1.357600e+10  1.135600e+10   \n",
      "Total Current Liabilities         8.865700e+10  7.231000e+10  6.942000e+10   \n",
      "Deferred Long Term Asset Charges  7.181000e+09  6.405000e+09  7.536000e+09   \n",
      "Short Long Term Debt              8.072000e+09  3.749000e+09  5.516000e+09   \n",
      "Other Stockholder Equity          1.822000e+09  3.186000e+09 -3.400000e+08   \n",
      "Property Plant Equipment          7.080300e+10  5.290400e+10  4.385600e+10   \n",
      "Total Current Assets              1.844060e+11  1.819150e+11  1.755520e+11   \n",
      "Long Term Investments             5.984000e+09  2.965000e+09  2.649000e+09   \n",
      "Net Tangible Assets               8.447700e+10  6.791500e+10  5.255400e+10   \n",
      "Short Term Investments            1.160320e+11  1.229160e+11  1.224760e+11   \n",
      "Net Receivables                   3.804300e+10  3.201100e+10  2.952400e+10   \n",
      "Long Term Debt                    5.007400e+10  5.957800e+10  6.666200e+10   \n",
      "Inventory                         2.636000e+09  1.895000e+09  2.063000e+09   \n",
      "Accounts Payable                  1.516300e+10  1.253000e+10  9.382000e+09   \n",
      "\n",
      "                                    2018-06-30  \n",
      "Intangible Assets                 8.053000e+09  \n",
      "Total Liab                        1.761300e+11  \n",
      "Total Stockholder Equity          8.271800e+10  \n",
      "Other Current Liab                3.819500e+10  \n",
      "Total Assets                      2.588480e+11  \n",
      "Common Stock                      7.122300e+10  \n",
      "Other Current Assets              6.855000e+09  \n",
      "Retained Earnings                 1.368200e+10  \n",
      "Other Liab                        3.570700e+10  \n",
      "Good Will                         3.568300e+10  \n",
      "Treasury Stock                   -2.187000e+09  \n",
      "Other Assets                      7.442000e+09  \n",
      "Cash                              1.194600e+10  \n",
      "Total Current Liabilities         5.848800e+10  \n",
      "Deferred Long Term Asset Charges  1.369000e+09  \n",
      "Short Long Term Debt              3.998000e+09  \n",
      "Other Stockholder Equity         -2.187000e+09  \n",
      "Property Plant Equipment          3.614600e+10  \n",
      "Total Current Assets              1.696620e+11  \n",
      "Long Term Investments             1.862000e+09  \n",
      "Net Tangible Assets               3.898200e+10  \n",
      "Short Term Investments            1.217180e+11  \n",
      "Net Receivables                   2.648100e+10  \n",
      "Long Term Debt                    7.224200e+10  \n",
      "Inventory                         2.662000e+09  \n",
      "Accounts Payable                  8.617000e+09  \n"
     ]
    }
   ],
   "source": [
    "get_balancesheet_on_stock('MSFT')"
   ]
  },
  {
   "cell_type": "code",
   "execution_count": 17,
   "metadata": {},
   "outputs": [],
   "source": [
    "#getting cashflow information\n",
    "def get_cashflow_on_stock(ticker):\n",
    "    stock=yf.Ticker(ticker)\n",
    "    print(stock.cashflow)\n",
    "    "
   ]
  },
  {
   "cell_type": "code",
   "execution_count": 18,
   "metadata": {},
   "outputs": [
    {
     "name": "stdout",
     "output_type": "stream",
     "text": [
      "                                             2021-06-30    2020-06-30  \\\n",
      "Investments                                2.876000e+09  6.980000e+09   \n",
      "Change To Liabilities                      7.431000e+09  5.230000e+09   \n",
      "Total Cashflows From Investing Activities -2.757700e+10 -1.222300e+10   \n",
      "Net Borrowings                            -3.750000e+09 -5.518000e+09   \n",
      "Total Cash From Financing Activities      -4.848600e+10 -4.603100e+10   \n",
      "Change To Operating Activities             1.160000e+09 -6.730000e+08   \n",
      "Issuance Of Stock                          1.693000e+09  1.343000e+09   \n",
      "Net Income                                 6.127100e+10  4.428100e+10   \n",
      "Change In Cash                             6.480000e+08  2.220000e+09   \n",
      "Repurchase Of Stock                       -2.738500e+10 -2.296800e+10   \n",
      "Effect Of Exchange Rate                   -2.900000e+07 -2.010000e+08   \n",
      "Total Cash From Operating Activities       7.674000e+10  6.067500e+10   \n",
      "Depreciation                               1.090000e+10  1.230000e+10   \n",
      "Other Cashflows From Investing Activities -9.220000e+08 -1.241000e+09   \n",
      "Dividends Paid                            -1.652100e+10 -1.513700e+10   \n",
      "Change To Inventory                       -7.370000e+08  1.680000e+08   \n",
      "Change To Account Receivables             -6.481000e+09 -2.577000e+09   \n",
      "Other Cashflows From Financing Activities -2.523000e+09 -3.751000e+09   \n",
      "Change To Netincome                        5.505000e+09  5.577000e+09   \n",
      "Capital Expenditures                      -2.062200e+10 -1.544100e+10   \n",
      "\n",
      "                                             2019-06-30    2018-06-30  \n",
      "Investments                                5.400000e+08  6.557000e+09  \n",
      "Change To Liabilities                      4.694000e+09  7.070000e+09  \n",
      "Total Cashflows From Investing Activities -1.577300e+10 -6.061000e+09  \n",
      "Net Borrowings                            -4.000000e+09 -1.020100e+10  \n",
      "Total Cash From Financing Activities      -3.688700e+10 -3.359000e+10  \n",
      "Change To Operating Activities            -1.542000e+09 -4.590000e+08  \n",
      "Issuance Of Stock                          1.142000e+09  1.002000e+09  \n",
      "Net Income                                 3.924000e+10  1.657100e+10  \n",
      "Change In Cash                            -5.900000e+08  4.283000e+09  \n",
      "Repurchase Of Stock                       -1.954300e+10 -1.072100e+10  \n",
      "Effect Of Exchange Rate                   -1.150000e+08  5.000000e+07  \n",
      "Total Cash From Operating Activities       5.218500e+10  4.388400e+10  \n",
      "Depreciation                               1.160000e+10  9.900000e+09  \n",
      "Other Cashflows From Investing Activities -1.241000e+09 -9.800000e+07  \n",
      "Dividends Paid                            -1.381100e+10 -1.269900e+10  \n",
      "Change To Inventory                        5.970000e+08 -4.650000e+08  \n",
      "Change To Account Receivables             -2.812000e+09 -3.862000e+09  \n",
      "Other Cashflows From Financing Activities -6.750000e+08 -9.710000e+08  \n",
      "Change To Netincome                       -2.521000e+09 -3.054000e+09  \n",
      "Capital Expenditures                      -1.392500e+10 -1.163200e+10  \n"
     ]
    }
   ],
   "source": [
    "get_cashflow_on_stock('MSFT')"
   ]
  },
  {
   "cell_type": "code",
   "execution_count": 19,
   "metadata": {},
   "outputs": [],
   "source": [
    "#getting earning data\n",
    "def get_earning_on_stock(ticker):\n",
    "    stock=yf.Ticker(ticker)\n",
    "    print(stock.earnings)\n",
    "    "
   ]
  },
  {
   "cell_type": "code",
   "execution_count": 20,
   "metadata": {},
   "outputs": [
    {
     "name": "stdout",
     "output_type": "stream",
     "text": [
      "           Revenue     Earnings\n",
      "Year                           \n",
      "2018  110360000000  16571000000\n",
      "2019  125843000000  39240000000\n",
      "2020  143015000000  44281000000\n",
      "2021  168088000000  61271000000\n"
     ]
    }
   ],
   "source": [
    "get_earning_on_stock('MSFT')"
   ]
  },
  {
   "cell_type": "code",
   "execution_count": 21,
   "metadata": {},
   "outputs": [],
   "source": [
    "#getting recommendation data\n",
    "def get_recommendation_on_stock(ticker):\n",
    "    stock=yf.Ticker(ticker)\n",
    "    print(stock.recommendations)\n",
    "    "
   ]
  },
  {
   "cell_type": "code",
   "execution_count": 22,
   "metadata": {},
   "outputs": [
    {
     "name": "stdout",
     "output_type": "stream",
     "text": [
      "                               Firm       To Grade From Grade Action\n",
      "Date                                                                \n",
      "2012-03-16 08:19:00  Argus Research            Buy                up\n",
      "2012-03-19 14:00:00  Hilliard Lyons  Long-Term Buy              main\n",
      "2012-03-22 07:03:00  Morgan Stanley     Overweight              main\n",
      "2012-04-03 11:53:00             UBS            Buy              main\n",
      "2012-04-20 06:18:00   Deutsche Bank            Buy              main\n",
      "...                             ...            ...        ...    ...\n",
      "2021-10-27 12:37:42   Credit Suisse     Outperform              main\n",
      "2021-10-27 13:41:53        Barclays     Overweight              main\n",
      "2021-10-27 13:56:33  Morgan Stanley     Overweight              main\n",
      "2021-10-28 14:55:44       Citigroup            Buy              main\n",
      "2021-11-02 09:45:19   Deutsche Bank            Buy              init\n",
      "\n",
      "[358 rows x 4 columns]\n"
     ]
    }
   ],
   "source": [
    "recommendations=get_recommendation_on_stock('MSFT')"
   ]
  },
  {
   "cell_type": "code",
   "execution_count": 23,
   "metadata": {},
   "outputs": [],
   "source": [
    "def getting_all_info(ticker):\n",
    "    get_recommendation_on_stock(ticker)\n",
    "    get_earning_on_stock(ticker)\n",
    "    get_cashflow_on_stock(ticker)\n",
    "    get_balancesheet_on_stock(ticker)\n",
    "    get_institution_on_stock(ticker)\n",
    "    get_shareholder_on_stock(ticker)\n",
    "    get_financial_on_stock(ticker)\n",
    "    "
   ]
  },
  {
   "cell_type": "code",
   "execution_count": 25,
   "metadata": {},
   "outputs": [
    {
     "name": "stdout",
     "output_type": "stream",
     "text": [
      "                               Firm       To Grade From Grade Action\n",
      "Date                                                                \n",
      "2012-03-16 08:19:00  Argus Research            Buy                up\n",
      "2012-03-19 14:00:00  Hilliard Lyons  Long-Term Buy              main\n",
      "2012-03-22 07:03:00  Morgan Stanley     Overweight              main\n",
      "2012-04-03 11:53:00             UBS            Buy              main\n",
      "2012-04-20 06:18:00   Deutsche Bank            Buy              main\n",
      "...                             ...            ...        ...    ...\n",
      "2021-10-27 12:37:42   Credit Suisse     Outperform              main\n",
      "2021-10-27 13:41:53        Barclays     Overweight              main\n",
      "2021-10-27 13:56:33  Morgan Stanley     Overweight              main\n",
      "2021-10-28 14:55:44       Citigroup            Buy              main\n",
      "2021-11-02 09:45:19   Deutsche Bank            Buy              init\n",
      "\n",
      "[358 rows x 4 columns]\n",
      "           Revenue     Earnings\n",
      "Year                           \n",
      "2018  110360000000  16571000000\n",
      "2019  125843000000  39240000000\n",
      "2020  143015000000  44281000000\n",
      "2021  168088000000  61271000000\n",
      "                                             2021-06-30    2020-06-30  \\\n",
      "Investments                                2.876000e+09  6.980000e+09   \n",
      "Change To Liabilities                      7.431000e+09  5.230000e+09   \n",
      "Total Cashflows From Investing Activities -2.757700e+10 -1.222300e+10   \n",
      "Net Borrowings                            -3.750000e+09 -5.518000e+09   \n",
      "Total Cash From Financing Activities      -4.848600e+10 -4.603100e+10   \n",
      "Change To Operating Activities             1.160000e+09 -6.730000e+08   \n",
      "Issuance Of Stock                          1.693000e+09  1.343000e+09   \n",
      "Net Income                                 6.127100e+10  4.428100e+10   \n",
      "Change In Cash                             6.480000e+08  2.220000e+09   \n",
      "Repurchase Of Stock                       -2.738500e+10 -2.296800e+10   \n",
      "Effect Of Exchange Rate                   -2.900000e+07 -2.010000e+08   \n",
      "Total Cash From Operating Activities       7.674000e+10  6.067500e+10   \n",
      "Depreciation                               1.090000e+10  1.230000e+10   \n",
      "Other Cashflows From Investing Activities -9.220000e+08 -1.241000e+09   \n",
      "Dividends Paid                            -1.652100e+10 -1.513700e+10   \n",
      "Change To Inventory                       -7.370000e+08  1.680000e+08   \n",
      "Change To Account Receivables             -6.481000e+09 -2.577000e+09   \n",
      "Other Cashflows From Financing Activities -2.523000e+09 -3.751000e+09   \n",
      "Change To Netincome                        5.505000e+09  5.577000e+09   \n",
      "Capital Expenditures                      -2.062200e+10 -1.544100e+10   \n",
      "\n",
      "                                             2019-06-30    2018-06-30  \n",
      "Investments                                5.400000e+08  6.557000e+09  \n",
      "Change To Liabilities                      4.694000e+09  7.070000e+09  \n",
      "Total Cashflows From Investing Activities -1.577300e+10 -6.061000e+09  \n",
      "Net Borrowings                            -4.000000e+09 -1.020100e+10  \n",
      "Total Cash From Financing Activities      -3.688700e+10 -3.359000e+10  \n",
      "Change To Operating Activities            -1.542000e+09 -4.590000e+08  \n",
      "Issuance Of Stock                          1.142000e+09  1.002000e+09  \n",
      "Net Income                                 3.924000e+10  1.657100e+10  \n",
      "Change In Cash                            -5.900000e+08  4.283000e+09  \n",
      "Repurchase Of Stock                       -1.954300e+10 -1.072100e+10  \n",
      "Effect Of Exchange Rate                   -1.150000e+08  5.000000e+07  \n",
      "Total Cash From Operating Activities       5.218500e+10  4.388400e+10  \n",
      "Depreciation                               1.160000e+10  9.900000e+09  \n",
      "Other Cashflows From Investing Activities -1.241000e+09 -9.800000e+07  \n",
      "Dividends Paid                            -1.381100e+10 -1.269900e+10  \n",
      "Change To Inventory                        5.970000e+08 -4.650000e+08  \n",
      "Change To Account Receivables             -2.812000e+09 -3.862000e+09  \n",
      "Other Cashflows From Financing Activities -6.750000e+08 -9.710000e+08  \n",
      "Change To Netincome                       -2.521000e+09 -3.054000e+09  \n",
      "Capital Expenditures                      -1.392500e+10 -1.163200e+10  \n",
      "                                    2021-06-30    2020-06-30    2019-06-30  \\\n",
      "Intangible Assets                 7.800000e+09  7.038000e+09  7.750000e+09   \n",
      "Total Liab                        1.917910e+11  1.830070e+11  1.842260e+11   \n",
      "Total Stockholder Equity          1.419880e+11  1.183040e+11  1.023300e+11   \n",
      "Other Current Liab                5.261200e+10  4.600100e+10  4.586000e+10   \n",
      "Total Assets                      3.337790e+11  3.013110e+11  2.865560e+11   \n",
      "Common Stock                      8.311100e+10  8.055200e+10  7.852000e+10   \n",
      "Other Current Assets              1.347100e+10  1.151700e+10  1.013300e+10   \n",
      "Retained Earnings                 5.705500e+10  3.456600e+10  2.415000e+10   \n",
      "Other Liab                        3.168100e+10  3.449200e+10  3.569900e+10   \n",
      "Good Will                         4.971100e+10  4.335100e+10  4.202600e+10   \n",
      "Treasury Stock                    1.822000e+09  3.186000e+09 -3.400000e+08   \n",
      "Other Assets                      1.507500e+10  1.313800e+10  1.472300e+10   \n",
      "Cash                              1.422400e+10  1.357600e+10  1.135600e+10   \n",
      "Total Current Liabilities         8.865700e+10  7.231000e+10  6.942000e+10   \n",
      "Deferred Long Term Asset Charges  7.181000e+09  6.405000e+09  7.536000e+09   \n",
      "Short Long Term Debt              8.072000e+09  3.749000e+09  5.516000e+09   \n",
      "Other Stockholder Equity          1.822000e+09  3.186000e+09 -3.400000e+08   \n",
      "Property Plant Equipment          7.080300e+10  5.290400e+10  4.385600e+10   \n",
      "Total Current Assets              1.844060e+11  1.819150e+11  1.755520e+11   \n",
      "Long Term Investments             5.984000e+09  2.965000e+09  2.649000e+09   \n",
      "Net Tangible Assets               8.447700e+10  6.791500e+10  5.255400e+10   \n",
      "Short Term Investments            1.160320e+11  1.229160e+11  1.224760e+11   \n",
      "Net Receivables                   3.804300e+10  3.201100e+10  2.952400e+10   \n",
      "Long Term Debt                    5.007400e+10  5.957800e+10  6.666200e+10   \n",
      "Inventory                         2.636000e+09  1.895000e+09  2.063000e+09   \n",
      "Accounts Payable                  1.516300e+10  1.253000e+10  9.382000e+09   \n",
      "\n",
      "                                    2018-06-30  \n",
      "Intangible Assets                 8.053000e+09  \n",
      "Total Liab                        1.761300e+11  \n",
      "Total Stockholder Equity          8.271800e+10  \n",
      "Other Current Liab                3.819500e+10  \n",
      "Total Assets                      2.588480e+11  \n",
      "Common Stock                      7.122300e+10  \n",
      "Other Current Assets              6.855000e+09  \n",
      "Retained Earnings                 1.368200e+10  \n",
      "Other Liab                        3.570700e+10  \n",
      "Good Will                         3.568300e+10  \n",
      "Treasury Stock                   -2.187000e+09  \n",
      "Other Assets                      7.442000e+09  \n",
      "Cash                              1.194600e+10  \n",
      "Total Current Liabilities         5.848800e+10  \n",
      "Deferred Long Term Asset Charges  1.369000e+09  \n",
      "Short Long Term Debt              3.998000e+09  \n",
      "Other Stockholder Equity         -2.187000e+09  \n",
      "Property Plant Equipment          3.614600e+10  \n",
      "Total Current Assets              1.696620e+11  \n",
      "Long Term Investments             1.862000e+09  \n",
      "Net Tangible Assets               3.898200e+10  \n",
      "Short Term Investments            1.217180e+11  \n",
      "Net Receivables                   2.648100e+10  \n",
      "Long Term Debt                    7.224200e+10  \n",
      "Inventory                         2.662000e+09  \n",
      "Accounts Payable                  8.617000e+09  \n",
      "                              Holder     Shares Date Reported   % Out  \\\n",
      "0         Vanguard Group, Inc. (The)  610974647    2021-06-29  0.0814   \n",
      "1                     Blackrock Inc.  505662500    2021-06-29  0.0674   \n",
      "2           State Street Corporation  294824958    2021-06-29  0.0393   \n",
      "3                           FMR, LLC  218007132    2021-06-29  0.0290   \n",
      "4      Price (T.Rowe) Associates Inc  192408922    2021-06-29  0.0256   \n",
      "5      Geode Capital Management, LLC  123322145    2021-06-29  0.0164   \n",
      "6            Capital World Investors  110830050    2021-06-29  0.0148   \n",
      "7  Capital Research Global Investors   94576657    2021-06-29  0.0126   \n",
      "8    Capital International Investors   92898047    2021-06-29  0.0124   \n",
      "9         Northern Trust Corporation   88583941    2021-06-29  0.0118   \n",
      "\n",
      "          Value  \n",
      "0  165513031872  \n",
      "1  136983971250  \n",
      "2   79868081122  \n",
      "3   59058132058  \n",
      "4   52123576969  \n",
      "5   33407969080  \n",
      "6   30023860545  \n",
      "7   25620816381  \n",
      "8   25166080932  \n",
      "9   23997389616  \n"
     ]
    },
    {
     "name": "stdout",
     "output_type": "stream",
     "text": [
      "        0                                      1\n",
      "0   0.08%        % of Shares Held by All Insider\n",
      "1  71.96%       % of Shares Held by Institutions\n",
      "2  72.01%        % of Float Held by Institutions\n",
      "3    5331  Number of Institutions Holding Shares\n",
      "                                         2021-06-30   2020-06-30   2019-06-30  \\\n",
      "Research Development                     2.0716e+10   1.9269e+10   1.6876e+10   \n",
      "Effect Of Accounting Charges                   None         None         None   \n",
      "Income Before Tax                        7.1102e+10   5.3036e+10   4.3688e+10   \n",
      "Minority Interest                              None         None         None   \n",
      "Net Income                               6.1271e+10   4.4281e+10    3.924e+10   \n",
      "Selling General Administrative           2.5224e+10   2.4523e+10   2.3098e+10   \n",
      "Gross Profit                            1.15856e+11   9.6937e+10   8.2933e+10   \n",
      "Ebit                                     6.9916e+10   5.3145e+10   4.2959e+10   \n",
      "Operating Income                         6.9916e+10   5.3145e+10   4.2959e+10   \n",
      "Other Operating Expenses                       None         None         None   \n",
      "Interest Expense                          -2.33e+09   -2.591e+09   -2.686e+09   \n",
      "Extraordinary Items                            None         None         None   \n",
      "Non Recurring                                  None         None         None   \n",
      "Other Items                                    None         None         None   \n",
      "Income Tax Expense                        9.831e+09    8.755e+09    4.448e+09   \n",
      "Total Revenue                           1.68088e+11  1.43015e+11  1.25843e+11   \n",
      "Total Operating Expenses                 9.8172e+10    8.987e+10   8.2884e+10   \n",
      "Cost Of Revenue                          5.2232e+10   4.6078e+10    4.291e+10   \n",
      "Total Other Income Expense Net            1.186e+09    -1.09e+08     7.29e+08   \n",
      "Discontinued Operations                        None         None         None   \n",
      "Net Income From Continuing Ops           6.1271e+10   4.4281e+10    3.924e+10   \n",
      "Net Income Applicable To Common Shares   6.1271e+10   4.4281e+10    3.924e+10   \n",
      "\n",
      "                                        2018-06-30  \n",
      "Research Development                    1.4726e+10  \n",
      "Effect Of Accounting Charges                  None  \n",
      "Income Before Tax                       3.6474e+10  \n",
      "Minority Interest                             None  \n",
      "Net Income                              1.6571e+10  \n",
      "Selling General Administrative          2.2223e+10  \n",
      "Gross Profit                            7.2007e+10  \n",
      "Ebit                                    3.5058e+10  \n",
      "Operating Income                        3.5058e+10  \n",
      "Other Operating Expenses                      None  \n",
      "Interest Expense                        -2.733e+09  \n",
      "Extraordinary Items                           None  \n",
      "Non Recurring                                 None  \n",
      "Other Items                                   None  \n",
      "Income Tax Expense                      1.9903e+10  \n",
      "Total Revenue                           1.1036e+11  \n",
      "Total Operating Expenses                7.5302e+10  \n",
      "Cost Of Revenue                         3.8353e+10  \n",
      "Total Other Income Expense Net           1.416e+09  \n",
      "Discontinued Operations                       None  \n",
      "Net Income From Continuing Ops          1.6571e+10  \n",
      "Net Income Applicable To Common Shares  1.6571e+10  \n"
     ]
    }
   ],
   "source": [
    "df=getting_all_info('MSFT')"
   ]
  },
  {
   "cell_type": "code",
   "execution_count": 34,
   "metadata": {},
   "outputs": [],
   "source": [
    "df=pd.DataFrame(recommendations)"
   ]
  },
  {
   "cell_type": "code",
   "execution_count": 29,
   "metadata": {},
   "outputs": [
    {
     "name": "stdout",
     "output_type": "stream",
     "text": [
      "                               Firm       To Grade From Grade Action\n",
      "Date                                                                \n",
      "2012-03-16 08:19:00  Argus Research            Buy                up\n",
      "2012-03-19 14:00:00  Hilliard Lyons  Long-Term Buy              main\n",
      "2012-03-22 07:03:00  Morgan Stanley     Overweight              main\n",
      "2012-04-03 11:53:00             UBS            Buy              main\n",
      "2012-04-20 06:18:00   Deutsche Bank            Buy              main\n",
      "...                             ...            ...        ...    ...\n",
      "2021-10-27 12:37:42   Credit Suisse     Outperform              main\n",
      "2021-10-27 13:41:53        Barclays     Overweight              main\n",
      "2021-10-27 13:56:33  Morgan Stanley     Overweight              main\n",
      "2021-10-28 14:55:44       Citigroup            Buy              main\n",
      "2021-11-02 09:45:19   Deutsche Bank            Buy              init\n",
      "\n",
      "[358 rows x 4 columns]\n"
     ]
    }
   ],
   "source": [
    "recommendations=get_recommendation_on_stock('MSFT')"
   ]
  },
  {
   "cell_type": "code",
   "execution_count": 35,
   "metadata": {},
   "outputs": [
    {
     "data": {
      "text/html": [
       "<div>\n",
       "<style scoped>\n",
       "    .dataframe tbody tr th:only-of-type {\n",
       "        vertical-align: middle;\n",
       "    }\n",
       "\n",
       "    .dataframe tbody tr th {\n",
       "        vertical-align: top;\n",
       "    }\n",
       "\n",
       "    .dataframe thead th {\n",
       "        text-align: right;\n",
       "    }\n",
       "</style>\n",
       "<table border=\"1\" class=\"dataframe\">\n",
       "  <thead>\n",
       "    <tr style=\"text-align: right;\">\n",
       "      <th></th>\n",
       "    </tr>\n",
       "  </thead>\n",
       "  <tbody>\n",
       "  </tbody>\n",
       "</table>\n",
       "</div>"
      ],
      "text/plain": [
       "Empty DataFrame\n",
       "Columns: []\n",
       "Index: []"
      ]
     },
     "execution_count": 35,
     "metadata": {},
     "output_type": "execute_result"
    }
   ],
   "source": [
    "df"
   ]
  },
  {
   "cell_type": "code",
   "execution_count": null,
   "metadata": {},
   "outputs": [],
   "source": []
  }
 ],
 "metadata": {
  "kernelspec": {
   "display_name": "Python 3",
   "language": "python",
   "name": "python3"
  },
  "language_info": {
   "codemirror_mode": {
    "name": "ipython",
    "version": 3
   },
   "file_extension": ".py",
   "mimetype": "text/x-python",
   "name": "python",
   "nbconvert_exporter": "python",
   "pygments_lexer": "ipython3",
   "version": "3.8.5"
  }
 },
 "nbformat": 4,
 "nbformat_minor": 4
}
