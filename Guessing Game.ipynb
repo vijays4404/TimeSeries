{
 "cells": [
  {
   "cell_type": "code",
   "execution_count": 1,
   "metadata": {},
   "outputs": [],
   "source": [
    "#Description: this is a word guessing game\n"
   ]
  },
  {
   "cell_type": "code",
   "execution_count": 2,
   "metadata": {},
   "outputs": [],
   "source": [
    "#importing the library\n",
    "import random\n"
   ]
  },
  {
   "cell_type": "code",
   "execution_count": 3,
   "metadata": {},
   "outputs": [],
   "source": [
    "#create a list of number to choose from for the use guess\n",
    "words=['computer','science','programmer','python','developer','geeks','youtube','mathematics','basket ball']"
   ]
  },
  {
   "cell_type": "code",
   "execution_count": 4,
   "metadata": {},
   "outputs": [],
   "source": [
    "print(words)"
   ]
  },
  {
   "cell_type": "code",
   "execution_count": null,
   "metadata": {},
   "outputs": [],
   "source": [
    "#Randomly choose one of the listed words\n",
    "word=random.choice(words)\n",
    "#show the word\n",
    "print(word)"
   ]
  },
  {
   "cell_type": "code",
   "execution_count": 6,
   "metadata": {},
   "outputs": [],
   "source": [
    "#create i'n' underscores to represent character spaces"
   ]
  },
  {
   "cell_type": "code",
   "execution_count": 7,
   "metadata": {},
   "outputs": [],
   "source": [
    "spaces=['__']*len(word)\n",
    "spaces"
   ]
  },
  {
   "cell_type": "code",
   "execution_count": 8,
   "metadata": {},
   "outputs": [],
   "source": [
    "#Creating a function \n",
    "#find all the letter positions from the users gess\n",
    "#If "
   ]
  },
  {
   "cell_type": "code",
   "execution_count": 9,
   "metadata": {},
   "outputs": [],
   "source": [
    "def get_letter_position(guess,word,spaces):\n",
    "    #create and set index to be -2\n",
    "    index=-2\n",
    "    while index !=-1:\n",
    "        #check if the character/guess is in word,if it is then remove the character \n",
    "        if guess in words:\n",
    "            index=word.find(guess)\n",
    "            #Remove the letter from the word\n",
    "            removed_character='*'\n",
    "            word=word[:index]+removed_character+word[index+1:]\n",
    "            spaces[index]=guess\n",
    "        else:\n",
    "            index=-1\n",
    "        return (word,spaces)\n",
    "            "
   ]
  },
  {
   "cell_type": "code",
   "execution_count": 10,
   "metadata": {},
   "outputs": [],
   "source": [
    "#creating the function if the user guesses all of the letters in the words\n",
    "def win_check():\n",
    "    for i in range(0,len(spaces)):\n",
    "        if spaces[i]=='__':\n",
    "            return -1\n",
    "    return 1\n"
   ]
  },
  {
   "cell_type": "code",
   "execution_count": null,
   "metadata": {},
   "outputs": [
    {
     "name": "stdout",
     "output_type": "stream",
     "text": [
      "Guess a Characterprogrammer\n",
      "['__', '__', '__', '__', '__', '__', '__', '__', 'programmer']\n",
      "Guess a Characterpython\n",
      "Sorry that letter in not in the word\n",
      "Guess a Character'python\n",
      "Sorry that letter in not in the word\n"
     ]
    }
   ],
   "source": [
    "#choose some number of turns for the user to guess the word\n",
    "num_turns=len(words)\n",
    "#creating for loop\n",
    "for i in range(0,num_turns):\n",
    "    #Ask the use to gues a character\n",
    "    guess=input('Guess a Character')\n",
    "    if guess in words:\n",
    "        words,spaces=get_letter_position(guess,word,spaces)\n",
    "        print(spaces)\n",
    "    else:\n",
    "        print('Sorry that letter in not in the word')\n",
    "    #Check if the player guess the word\n",
    "    if win_check()==1:\n",
    "        print('Congratulation')\n",
    "        break\n",
    "print('You have '+str(num_turns-i)+'turns left.')\n"
   ]
  },
  {
   "cell_type": "code",
   "execution_count": null,
   "metadata": {},
   "outputs": [],
   "source": []
  },
  {
   "cell_type": "code",
   "execution_count": null,
   "metadata": {},
   "outputs": [],
   "source": []
  }
 ],
 "metadata": {
  "kernelspec": {
   "display_name": "Python 3",
   "language": "python",
   "name": "python3"
  },
  "language_info": {
   "codemirror_mode": {
    "name": "ipython",
    "version": 3
   },
   "file_extension": ".py",
   "mimetype": "text/x-python",
   "name": "python",
   "nbconvert_exporter": "python",
   "pygments_lexer": "ipython3",
   "version": "3.8.5"
  }
 },
 "nbformat": 4,
 "nbformat_minor": 4
}
