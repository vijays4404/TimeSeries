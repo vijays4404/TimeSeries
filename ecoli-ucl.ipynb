{
 "cells": [
  {
   "cell_type": "code",
   "execution_count": 1,
   "id": "71d99e81",
   "metadata": {
    "_cell_guid": "b1076dfc-b9ad-4769-8c92-a6c4dae69d19",
    "_uuid": "8f2839f25d086af736a60e9eeb907d3b93b6e0e5",
    "execution": {
     "iopub.execute_input": "2025-04-14T04:38:17.931505Z",
     "iopub.status.busy": "2025-04-14T04:38:17.931225Z",
     "iopub.status.idle": "2025-04-14T04:38:21.619121Z",
     "shell.execute_reply": "2025-04-14T04:38:21.618243Z"
    },
    "papermill": {
     "duration": 3.694017,
     "end_time": "2025-04-14T04:38:21.620711",
     "exception": false,
     "start_time": "2025-04-14T04:38:17.926694",
     "status": "completed"
    },
    "tags": []
   },
   "outputs": [],
   "source": [
    "#importing library\n",
    "import numpy as np\n",
    "import pandas as pd\n",
    "import matplotlib.pyplot as plt\n",
    "import seaborn as sns\n",
    "from sklearn.preprocessing import StandardScaler,MinMaxScaler\n",
    "from sklearn.model_selection import train_test_split\n",
    "from sklearn.linear_model import LogisticRegression\n",
    "from sklearn.metrics import confusion_matrix"
   ]
  },
  {
   "cell_type": "code",
   "execution_count": 2,
   "id": "ad084aef",
   "metadata": {
    "execution": {
     "iopub.execute_input": "2025-04-14T04:38:21.628043Z",
     "iopub.status.busy": "2025-04-14T04:38:21.627597Z",
     "iopub.status.idle": "2025-04-14T04:38:21.673940Z",
     "shell.execute_reply": "2025-04-14T04:38:21.673126Z"
    },
    "papermill": {
     "duration": 0.051284,
     "end_time": "2025-04-14T04:38:21.675326",
     "exception": false,
     "start_time": "2025-04-14T04:38:21.624042",
     "status": "completed"
    },
    "tags": []
   },
   "outputs": [
    {
     "data": {
      "text/html": [
       "<div>\n",
       "<style scoped>\n",
       "    .dataframe tbody tr th:only-of-type {\n",
       "        vertical-align: middle;\n",
       "    }\n",
       "\n",
       "    .dataframe tbody tr th {\n",
       "        vertical-align: top;\n",
       "    }\n",
       "\n",
       "    .dataframe thead th {\n",
       "        text-align: right;\n",
       "    }\n",
       "</style>\n",
       "<table border=\"1\" class=\"dataframe\">\n",
       "  <thead>\n",
       "    <tr style=\"text-align: right;\">\n",
       "      <th></th>\n",
       "      <th>SEQUENCE_NAME</th>\n",
       "      <th>MCG</th>\n",
       "      <th>GVH</th>\n",
       "      <th>LIP</th>\n",
       "      <th>CHG</th>\n",
       "      <th>AAC</th>\n",
       "      <th>ALM1</th>\n",
       "      <th>ALM2</th>\n",
       "      <th>SITE</th>\n",
       "    </tr>\n",
       "  </thead>\n",
       "  <tbody>\n",
       "    <tr>\n",
       "      <th>0</th>\n",
       "      <td>AAT_ECOLI</td>\n",
       "      <td>0.49</td>\n",
       "      <td>0.29</td>\n",
       "      <td>0.48</td>\n",
       "      <td>0.5</td>\n",
       "      <td>0.56</td>\n",
       "      <td>0.24</td>\n",
       "      <td>0.35</td>\n",
       "      <td>cp</td>\n",
       "    </tr>\n",
       "    <tr>\n",
       "      <th>1</th>\n",
       "      <td>ACEA_ECOLI</td>\n",
       "      <td>0.07</td>\n",
       "      <td>0.40</td>\n",
       "      <td>0.48</td>\n",
       "      <td>0.5</td>\n",
       "      <td>0.54</td>\n",
       "      <td>0.35</td>\n",
       "      <td>0.44</td>\n",
       "      <td>cp</td>\n",
       "    </tr>\n",
       "    <tr>\n",
       "      <th>2</th>\n",
       "      <td>ACEK_ECOLI</td>\n",
       "      <td>0.56</td>\n",
       "      <td>0.40</td>\n",
       "      <td>0.48</td>\n",
       "      <td>0.5</td>\n",
       "      <td>0.49</td>\n",
       "      <td>0.37</td>\n",
       "      <td>0.46</td>\n",
       "      <td>cp</td>\n",
       "    </tr>\n",
       "    <tr>\n",
       "      <th>3</th>\n",
       "      <td>ACKA_ECOLI</td>\n",
       "      <td>0.59</td>\n",
       "      <td>0.49</td>\n",
       "      <td>0.48</td>\n",
       "      <td>0.5</td>\n",
       "      <td>0.52</td>\n",
       "      <td>0.45</td>\n",
       "      <td>0.36</td>\n",
       "      <td>cp</td>\n",
       "    </tr>\n",
       "    <tr>\n",
       "      <th>4</th>\n",
       "      <td>ADI_ECOLI</td>\n",
       "      <td>0.23</td>\n",
       "      <td>0.32</td>\n",
       "      <td>0.48</td>\n",
       "      <td>0.5</td>\n",
       "      <td>0.55</td>\n",
       "      <td>0.25</td>\n",
       "      <td>0.35</td>\n",
       "      <td>cp</td>\n",
       "    </tr>\n",
       "    <tr>\n",
       "      <th>...</th>\n",
       "      <td>...</td>\n",
       "      <td>...</td>\n",
       "      <td>...</td>\n",
       "      <td>...</td>\n",
       "      <td>...</td>\n",
       "      <td>...</td>\n",
       "      <td>...</td>\n",
       "      <td>...</td>\n",
       "      <td>...</td>\n",
       "    </tr>\n",
       "    <tr>\n",
       "      <th>331</th>\n",
       "      <td>TREA_ECOLI</td>\n",
       "      <td>0.74</td>\n",
       "      <td>0.56</td>\n",
       "      <td>0.48</td>\n",
       "      <td>0.5</td>\n",
       "      <td>0.47</td>\n",
       "      <td>0.68</td>\n",
       "      <td>0.30</td>\n",
       "      <td>pp</td>\n",
       "    </tr>\n",
       "    <tr>\n",
       "      <th>332</th>\n",
       "      <td>UGPB_ECOLI</td>\n",
       "      <td>0.71</td>\n",
       "      <td>0.57</td>\n",
       "      <td>0.48</td>\n",
       "      <td>0.5</td>\n",
       "      <td>0.48</td>\n",
       "      <td>0.35</td>\n",
       "      <td>0.32</td>\n",
       "      <td>pp</td>\n",
       "    </tr>\n",
       "    <tr>\n",
       "      <th>333</th>\n",
       "      <td>USHA_ECOLI</td>\n",
       "      <td>0.61</td>\n",
       "      <td>0.60</td>\n",
       "      <td>0.48</td>\n",
       "      <td>0.5</td>\n",
       "      <td>0.44</td>\n",
       "      <td>0.39</td>\n",
       "      <td>0.38</td>\n",
       "      <td>pp</td>\n",
       "    </tr>\n",
       "    <tr>\n",
       "      <th>334</th>\n",
       "      <td>XYLF_ECOLI</td>\n",
       "      <td>0.59</td>\n",
       "      <td>0.61</td>\n",
       "      <td>0.48</td>\n",
       "      <td>0.5</td>\n",
       "      <td>0.42</td>\n",
       "      <td>0.42</td>\n",
       "      <td>0.37</td>\n",
       "      <td>pp</td>\n",
       "    </tr>\n",
       "    <tr>\n",
       "      <th>335</th>\n",
       "      <td>YTFQ_ECOLI</td>\n",
       "      <td>0.74</td>\n",
       "      <td>0.74</td>\n",
       "      <td>0.48</td>\n",
       "      <td>0.5</td>\n",
       "      <td>0.31</td>\n",
       "      <td>0.53</td>\n",
       "      <td>0.52</td>\n",
       "      <td>pp</td>\n",
       "    </tr>\n",
       "  </tbody>\n",
       "</table>\n",
       "<p>336 rows × 9 columns</p>\n",
       "</div>"
      ],
      "text/plain": [
       "    SEQUENCE_NAME   MCG   GVH   LIP  CHG   AAC  ALM1  ALM2 SITE\n",
       "0       AAT_ECOLI  0.49  0.29  0.48  0.5  0.56  0.24  0.35   cp\n",
       "1      ACEA_ECOLI  0.07  0.40  0.48  0.5  0.54  0.35  0.44   cp\n",
       "2      ACEK_ECOLI  0.56  0.40  0.48  0.5  0.49  0.37  0.46   cp\n",
       "3      ACKA_ECOLI  0.59  0.49  0.48  0.5  0.52  0.45  0.36   cp\n",
       "4       ADI_ECOLI  0.23  0.32  0.48  0.5  0.55  0.25  0.35   cp\n",
       "..            ...   ...   ...   ...  ...   ...   ...   ...  ...\n",
       "331    TREA_ECOLI  0.74  0.56  0.48  0.5  0.47  0.68  0.30   pp\n",
       "332    UGPB_ECOLI  0.71  0.57  0.48  0.5  0.48  0.35  0.32   pp\n",
       "333    USHA_ECOLI  0.61  0.60  0.48  0.5  0.44  0.39  0.38   pp\n",
       "334    XYLF_ECOLI  0.59  0.61  0.48  0.5  0.42  0.42  0.37   pp\n",
       "335    YTFQ_ECOLI  0.74  0.74  0.48  0.5  0.31  0.53  0.52   pp\n",
       "\n",
       "[336 rows x 9 columns]"
      ]
     },
     "execution_count": 2,
     "metadata": {},
     "output_type": "execute_result"
    }
   ],
   "source": [
    "#loading the dataset\n",
    "df=pd.read_csv('/kaggle/input/ecoli-uci-dataset/ecoli.csv')\n",
    "df"
   ]
  },
  {
   "cell_type": "code",
   "execution_count": 3,
   "id": "0634d7e9",
   "metadata": {
    "execution": {
     "iopub.execute_input": "2025-04-14T04:38:21.683057Z",
     "iopub.status.busy": "2025-04-14T04:38:21.682751Z",
     "iopub.status.idle": "2025-04-14T04:38:21.704188Z",
     "shell.execute_reply": "2025-04-14T04:38:21.702966Z"
    },
    "papermill": {
     "duration": 0.026844,
     "end_time": "2025-04-14T04:38:21.705572",
     "exception": false,
     "start_time": "2025-04-14T04:38:21.678728",
     "status": "completed"
    },
    "tags": []
   },
   "outputs": [
    {
     "name": "stdout",
     "output_type": "stream",
     "text": [
      "<class 'pandas.core.frame.DataFrame'>\n",
      "RangeIndex: 336 entries, 0 to 335\n",
      "Data columns (total 9 columns):\n",
      " #   Column         Non-Null Count  Dtype  \n",
      "---  ------         --------------  -----  \n",
      " 0   SEQUENCE_NAME  336 non-null    object \n",
      " 1   MCG            336 non-null    float64\n",
      " 2   GVH            336 non-null    float64\n",
      " 3   LIP            336 non-null    float64\n",
      " 4   CHG            336 non-null    float64\n",
      " 5   AAC            336 non-null    float64\n",
      " 6   ALM1           336 non-null    float64\n",
      " 7   ALM2           336 non-null    float64\n",
      " 8   SITE           336 non-null    object \n",
      "dtypes: float64(7), object(2)\n",
      "memory usage: 23.8+ KB\n"
     ]
    }
   ],
   "source": [
    "#getting the information about the dataset\n",
    "df.info()"
   ]
  },
  {
   "cell_type": "code",
   "execution_count": 4,
   "id": "cbff0d14",
   "metadata": {
    "execution": {
     "iopub.execute_input": "2025-04-14T04:38:21.713419Z",
     "iopub.status.busy": "2025-04-14T04:38:21.712934Z",
     "iopub.status.idle": "2025-04-14T04:38:21.718823Z",
     "shell.execute_reply": "2025-04-14T04:38:21.718172Z"
    },
    "papermill": {
     "duration": 0.010987,
     "end_time": "2025-04-14T04:38:21.720061",
     "exception": false,
     "start_time": "2025-04-14T04:38:21.709074",
     "status": "completed"
    },
    "tags": []
   },
   "outputs": [],
   "source": [
    "#Creating preproccsing file\n",
    "def preprocessing_input(df):\n",
    "    df=df.copy()\n",
    "\n",
    "    #dropping the sequence_name column\n",
    "    df=df.drop('SEQUENCE_NAME',axis=1)\n",
    "\n",
    "    df['SITE']=df['SITE'].apply(lambda x:x if x=='cp' else 'other')\n",
    "\n",
    "    #splitting the data between x and y\n",
    "    y=df['SITE']\n",
    "    x=df.drop('SITE',axis=1)\n",
    "\n",
    "    #train_test_split\n",
    "    x_train,x_test,y_train,y_test=train_test_split(x,y,train_size=0.7,random_state=123,shuffle=True)\n",
    "\n",
    "    #Scaling the dataset\n",
    "    scaler=MinMaxScaler()\n",
    "    scaler.fit(x_train)\n",
    "    x_train=pd.DataFrame(scaler.transform(x_train),columns=x_train.columns,index=x_train.index)\n",
    "    x_test=pd.DataFrame(scaler.transform(x_test),columns=x_test.columns,index=x_test.index)    \n",
    "\n",
    "    return x_train,x_test,y_train,y_test"
   ]
  },
  {
   "cell_type": "code",
   "execution_count": 5,
   "id": "fe387a26",
   "metadata": {
    "execution": {
     "iopub.execute_input": "2025-04-14T04:38:21.727556Z",
     "iopub.status.busy": "2025-04-14T04:38:21.727041Z",
     "iopub.status.idle": "2025-04-14T04:38:21.745198Z",
     "shell.execute_reply": "2025-04-14T04:38:21.744492Z"
    },
    "papermill": {
     "duration": 0.023002,
     "end_time": "2025-04-14T04:38:21.746389",
     "exception": false,
     "start_time": "2025-04-14T04:38:21.723387",
     "status": "completed"
    },
    "tags": []
   },
   "outputs": [
    {
     "data": {
      "text/html": [
       "<div>\n",
       "<style scoped>\n",
       "    .dataframe tbody tr th:only-of-type {\n",
       "        vertical-align: middle;\n",
       "    }\n",
       "\n",
       "    .dataframe tbody tr th {\n",
       "        vertical-align: top;\n",
       "    }\n",
       "\n",
       "    .dataframe thead th {\n",
       "        text-align: right;\n",
       "    }\n",
       "</style>\n",
       "<table border=\"1\" class=\"dataframe\">\n",
       "  <thead>\n",
       "    <tr style=\"text-align: right;\">\n",
       "      <th></th>\n",
       "      <th>MCG</th>\n",
       "      <th>GVH</th>\n",
       "      <th>LIP</th>\n",
       "      <th>CHG</th>\n",
       "      <th>AAC</th>\n",
       "      <th>ALM1</th>\n",
       "      <th>ALM2</th>\n",
       "    </tr>\n",
       "  </thead>\n",
       "  <tbody>\n",
       "    <tr>\n",
       "      <th>216</th>\n",
       "      <td>0.337079</td>\n",
       "      <td>0.416667</td>\n",
       "      <td>0.0</td>\n",
       "      <td>0.0</td>\n",
       "      <td>0.477273</td>\n",
       "      <td>0.637363</td>\n",
       "      <td>0.354839</td>\n",
       "    </tr>\n",
       "    <tr>\n",
       "      <th>298</th>\n",
       "      <td>0.719101</td>\n",
       "      <td>0.666667</td>\n",
       "      <td>0.0</td>\n",
       "      <td>0.0</td>\n",
       "      <td>0.556818</td>\n",
       "      <td>0.428571</td>\n",
       "      <td>0.193548</td>\n",
       "    </tr>\n",
       "    <tr>\n",
       "      <th>220</th>\n",
       "      <td>0.955056</td>\n",
       "      <td>0.440476</td>\n",
       "      <td>0.0</td>\n",
       "      <td>0.0</td>\n",
       "      <td>0.602273</td>\n",
       "      <td>0.538462</td>\n",
       "      <td>0.365591</td>\n",
       "    </tr>\n",
       "    <tr>\n",
       "      <th>246</th>\n",
       "      <td>0.853933</td>\n",
       "      <td>0.297619</td>\n",
       "      <td>0.0</td>\n",
       "      <td>0.0</td>\n",
       "      <td>0.568182</td>\n",
       "      <td>0.615385</td>\n",
       "      <td>0.655914</td>\n",
       "    </tr>\n",
       "    <tr>\n",
       "      <th>24</th>\n",
       "      <td>0.404494</td>\n",
       "      <td>0.273810</td>\n",
       "      <td>0.0</td>\n",
       "      <td>0.0</td>\n",
       "      <td>0.545455</td>\n",
       "      <td>0.208791</td>\n",
       "      <td>0.236559</td>\n",
       "    </tr>\n",
       "    <tr>\n",
       "      <th>...</th>\n",
       "      <td>...</td>\n",
       "      <td>...</td>\n",
       "      <td>...</td>\n",
       "      <td>...</td>\n",
       "      <td>...</td>\n",
       "      <td>...</td>\n",
       "      <td>...</td>\n",
       "    </tr>\n",
       "    <tr>\n",
       "      <th>83</th>\n",
       "      <td>0.382022</td>\n",
       "      <td>0.464286</td>\n",
       "      <td>0.0</td>\n",
       "      <td>0.0</td>\n",
       "      <td>0.659091</td>\n",
       "      <td>0.307692</td>\n",
       "      <td>0.430108</td>\n",
       "    </tr>\n",
       "    <tr>\n",
       "      <th>17</th>\n",
       "      <td>0.494382</td>\n",
       "      <td>0.130952</td>\n",
       "      <td>0.0</td>\n",
       "      <td>0.0</td>\n",
       "      <td>0.625000</td>\n",
       "      <td>0.538462</td>\n",
       "      <td>0.612903</td>\n",
       "    </tr>\n",
       "    <tr>\n",
       "      <th>230</th>\n",
       "      <td>0.842697</td>\n",
       "      <td>0.250000</td>\n",
       "      <td>0.0</td>\n",
       "      <td>0.0</td>\n",
       "      <td>0.727273</td>\n",
       "      <td>0.736264</td>\n",
       "      <td>0.784946</td>\n",
       "    </tr>\n",
       "    <tr>\n",
       "      <th>98</th>\n",
       "      <td>0.730337</td>\n",
       "      <td>0.464286</td>\n",
       "      <td>0.0</td>\n",
       "      <td>0.0</td>\n",
       "      <td>0.386364</td>\n",
       "      <td>0.373626</td>\n",
       "      <td>0.290323</td>\n",
       "    </tr>\n",
       "    <tr>\n",
       "      <th>322</th>\n",
       "      <td>0.696629</td>\n",
       "      <td>0.738095</td>\n",
       "      <td>0.0</td>\n",
       "      <td>0.0</td>\n",
       "      <td>0.534091</td>\n",
       "      <td>0.505495</td>\n",
       "      <td>0.569892</td>\n",
       "    </tr>\n",
       "  </tbody>\n",
       "</table>\n",
       "<p>235 rows × 7 columns</p>\n",
       "</div>"
      ],
      "text/plain": [
       "          MCG       GVH  LIP  CHG       AAC      ALM1      ALM2\n",
       "216  0.337079  0.416667  0.0  0.0  0.477273  0.637363  0.354839\n",
       "298  0.719101  0.666667  0.0  0.0  0.556818  0.428571  0.193548\n",
       "220  0.955056  0.440476  0.0  0.0  0.602273  0.538462  0.365591\n",
       "246  0.853933  0.297619  0.0  0.0  0.568182  0.615385  0.655914\n",
       "24   0.404494  0.273810  0.0  0.0  0.545455  0.208791  0.236559\n",
       "..        ...       ...  ...  ...       ...       ...       ...\n",
       "83   0.382022  0.464286  0.0  0.0  0.659091  0.307692  0.430108\n",
       "17   0.494382  0.130952  0.0  0.0  0.625000  0.538462  0.612903\n",
       "230  0.842697  0.250000  0.0  0.0  0.727273  0.736264  0.784946\n",
       "98   0.730337  0.464286  0.0  0.0  0.386364  0.373626  0.290323\n",
       "322  0.696629  0.738095  0.0  0.0  0.534091  0.505495  0.569892\n",
       "\n",
       "[235 rows x 7 columns]"
      ]
     },
     "execution_count": 5,
     "metadata": {},
     "output_type": "execute_result"
    }
   ],
   "source": [
    "x_train,x_test,y_train,y_test=preprocessing_input(df)\n",
    "x_train"
   ]
  },
  {
   "cell_type": "code",
   "execution_count": 6,
   "id": "70774563",
   "metadata": {
    "execution": {
     "iopub.execute_input": "2025-04-14T04:38:21.755377Z",
     "iopub.status.busy": "2025-04-14T04:38:21.754825Z",
     "iopub.status.idle": "2025-04-14T04:38:21.777136Z",
     "shell.execute_reply": "2025-04-14T04:38:21.776379Z"
    },
    "papermill": {
     "duration": 0.027406,
     "end_time": "2025-04-14T04:38:21.778372",
     "exception": false,
     "start_time": "2025-04-14T04:38:21.750966",
     "status": "completed"
    },
    "tags": []
   },
   "outputs": [
    {
     "data": {
      "text/html": [
       "<div>\n",
       "<style scoped>\n",
       "    .dataframe tbody tr th:only-of-type {\n",
       "        vertical-align: middle;\n",
       "    }\n",
       "\n",
       "    .dataframe tbody tr th {\n",
       "        vertical-align: top;\n",
       "    }\n",
       "\n",
       "    .dataframe thead th {\n",
       "        text-align: right;\n",
       "    }\n",
       "</style>\n",
       "<table border=\"1\" class=\"dataframe\">\n",
       "  <thead>\n",
       "    <tr style=\"text-align: right;\">\n",
       "      <th></th>\n",
       "      <th>MCG</th>\n",
       "      <th>GVH</th>\n",
       "      <th>LIP</th>\n",
       "      <th>CHG</th>\n",
       "      <th>AAC</th>\n",
       "      <th>ALM1</th>\n",
       "      <th>ALM2</th>\n",
       "    </tr>\n",
       "  </thead>\n",
       "  <tbody>\n",
       "    <tr>\n",
       "      <th>count</th>\n",
       "      <td>235.000000</td>\n",
       "      <td>235.000000</td>\n",
       "      <td>235.000000</td>\n",
       "      <td>235.000000</td>\n",
       "      <td>235.000000</td>\n",
       "      <td>235.000000</td>\n",
       "      <td>235.000000</td>\n",
       "    </tr>\n",
       "    <tr>\n",
       "      <th>mean</th>\n",
       "      <td>0.568683</td>\n",
       "      <td>0.411145</td>\n",
       "      <td>0.029787</td>\n",
       "      <td>0.004255</td>\n",
       "      <td>0.573356</td>\n",
       "      <td>0.507412</td>\n",
       "      <td>0.514573</td>\n",
       "    </tr>\n",
       "    <tr>\n",
       "      <th>std</th>\n",
       "      <td>0.223204</td>\n",
       "      <td>0.186418</td>\n",
       "      <td>0.170363</td>\n",
       "      <td>0.065233</td>\n",
       "      <td>0.145500</td>\n",
       "      <td>0.230088</td>\n",
       "      <td>0.219730</td>\n",
       "    </tr>\n",
       "    <tr>\n",
       "      <th>min</th>\n",
       "      <td>0.000000</td>\n",
       "      <td>0.000000</td>\n",
       "      <td>0.000000</td>\n",
       "      <td>0.000000</td>\n",
       "      <td>0.000000</td>\n",
       "      <td>0.000000</td>\n",
       "      <td>0.000000</td>\n",
       "    </tr>\n",
       "    <tr>\n",
       "      <th>25%</th>\n",
       "      <td>0.382022</td>\n",
       "      <td>0.279762</td>\n",
       "      <td>0.000000</td>\n",
       "      <td>0.000000</td>\n",
       "      <td>0.477273</td>\n",
       "      <td>0.329670</td>\n",
       "      <td>0.354839</td>\n",
       "    </tr>\n",
       "    <tr>\n",
       "      <th>50%</th>\n",
       "      <td>0.573034</td>\n",
       "      <td>0.380952</td>\n",
       "      <td>0.000000</td>\n",
       "      <td>0.000000</td>\n",
       "      <td>0.568182</td>\n",
       "      <td>0.461538</td>\n",
       "      <td>0.451613</td>\n",
       "    </tr>\n",
       "    <tr>\n",
       "      <th>75%</th>\n",
       "      <td>0.752809</td>\n",
       "      <td>0.488095</td>\n",
       "      <td>0.000000</td>\n",
       "      <td>0.000000</td>\n",
       "      <td>0.647727</td>\n",
       "      <td>0.703297</td>\n",
       "      <td>0.720430</td>\n",
       "    </tr>\n",
       "    <tr>\n",
       "      <th>max</th>\n",
       "      <td>1.000000</td>\n",
       "      <td>1.000000</td>\n",
       "      <td>1.000000</td>\n",
       "      <td>1.000000</td>\n",
       "      <td>1.000000</td>\n",
       "      <td>1.000000</td>\n",
       "      <td>1.000000</td>\n",
       "    </tr>\n",
       "  </tbody>\n",
       "</table>\n",
       "</div>"
      ],
      "text/plain": [
       "              MCG         GVH         LIP         CHG         AAC        ALM1  \\\n",
       "count  235.000000  235.000000  235.000000  235.000000  235.000000  235.000000   \n",
       "mean     0.568683    0.411145    0.029787    0.004255    0.573356    0.507412   \n",
       "std      0.223204    0.186418    0.170363    0.065233    0.145500    0.230088   \n",
       "min      0.000000    0.000000    0.000000    0.000000    0.000000    0.000000   \n",
       "25%      0.382022    0.279762    0.000000    0.000000    0.477273    0.329670   \n",
       "50%      0.573034    0.380952    0.000000    0.000000    0.568182    0.461538   \n",
       "75%      0.752809    0.488095    0.000000    0.000000    0.647727    0.703297   \n",
       "max      1.000000    1.000000    1.000000    1.000000    1.000000    1.000000   \n",
       "\n",
       "             ALM2  \n",
       "count  235.000000  \n",
       "mean     0.514573  \n",
       "std      0.219730  \n",
       "min      0.000000  \n",
       "25%      0.354839  \n",
       "50%      0.451613  \n",
       "75%      0.720430  \n",
       "max      1.000000  "
      ]
     },
     "execution_count": 6,
     "metadata": {},
     "output_type": "execute_result"
    }
   ],
   "source": [
    "x_train.describe()"
   ]
  },
  {
   "cell_type": "code",
   "execution_count": 7,
   "id": "5a6b0a9f",
   "metadata": {
    "execution": {
     "iopub.execute_input": "2025-04-14T04:38:21.786511Z",
     "iopub.status.busy": "2025-04-14T04:38:21.785973Z",
     "iopub.status.idle": "2025-04-14T04:38:21.791871Z",
     "shell.execute_reply": "2025-04-14T04:38:21.791246Z"
    },
    "papermill": {
     "duration": 0.011117,
     "end_time": "2025-04-14T04:38:21.793093",
     "exception": false,
     "start_time": "2025-04-14T04:38:21.781976",
     "status": "completed"
    },
    "tags": []
   },
   "outputs": [
    {
     "data": {
      "text/plain": [
       "SITE\n",
       "other    134\n",
       "cp       101\n",
       "Name: count, dtype: int64"
      ]
     },
     "execution_count": 7,
     "metadata": {},
     "output_type": "execute_result"
    }
   ],
   "source": [
    "y_train.value_counts()"
   ]
  },
  {
   "cell_type": "code",
   "execution_count": 8,
   "id": "427710e7",
   "metadata": {
    "execution": {
     "iopub.execute_input": "2025-04-14T04:38:21.801114Z",
     "iopub.status.busy": "2025-04-14T04:38:21.800855Z",
     "iopub.status.idle": "2025-04-14T04:38:21.806622Z",
     "shell.execute_reply": "2025-04-14T04:38:21.805997Z"
    },
    "papermill": {
     "duration": 0.011006,
     "end_time": "2025-04-14T04:38:21.807774",
     "exception": false,
     "start_time": "2025-04-14T04:38:21.796768",
     "status": "completed"
    },
    "tags": []
   },
   "outputs": [
    {
     "data": {
      "text/plain": [
       "SITE\n",
       "other    59\n",
       "cp       42\n",
       "Name: count, dtype: int64"
      ]
     },
     "execution_count": 8,
     "metadata": {},
     "output_type": "execute_result"
    }
   ],
   "source": [
    "y_test.value_counts()"
   ]
  },
  {
   "cell_type": "code",
   "execution_count": null,
   "id": "00090639",
   "metadata": {
    "papermill": {
     "duration": 0.003274,
     "end_time": "2025-04-14T04:38:21.814695",
     "exception": false,
     "start_time": "2025-04-14T04:38:21.811421",
     "status": "completed"
    },
    "tags": []
   },
   "outputs": [],
   "source": []
  },
  {
   "cell_type": "code",
   "execution_count": 9,
   "id": "ef682d70",
   "metadata": {
    "execution": {
     "iopub.execute_input": "2025-04-14T04:38:21.822469Z",
     "iopub.status.busy": "2025-04-14T04:38:21.822254Z",
     "iopub.status.idle": "2025-04-14T04:38:21.848199Z",
     "shell.execute_reply": "2025-04-14T04:38:21.846596Z"
    },
    "papermill": {
     "duration": 0.031615,
     "end_time": "2025-04-14T04:38:21.849826",
     "exception": false,
     "start_time": "2025-04-14T04:38:21.818211",
     "status": "completed"
    },
    "tags": []
   },
   "outputs": [
    {
     "name": "stdout",
     "output_type": "stream",
     "text": [
      "Test Accuracy:99.01%\n"
     ]
    }
   ],
   "source": [
    "#training the dataset\n",
    "model=LogisticRegression()\n",
    "model.fit(x_train,y_train)\n",
    "print('Test Accuracy:{:.2f}%'.format(model.score(x_test,y_test)*100))"
   ]
  },
  {
   "cell_type": "code",
   "execution_count": 10,
   "id": "e018f2ff",
   "metadata": {
    "execution": {
     "iopub.execute_input": "2025-04-14T04:38:21.863336Z",
     "iopub.status.busy": "2025-04-14T04:38:21.863043Z",
     "iopub.status.idle": "2025-04-14T04:38:21.875014Z",
     "shell.execute_reply": "2025-04-14T04:38:21.874309Z"
    },
    "papermill": {
     "duration": 0.020558,
     "end_time": "2025-04-14T04:38:21.876568",
     "exception": false,
     "start_time": "2025-04-14T04:38:21.856010",
     "status": "completed"
    },
    "tags": []
   },
   "outputs": [
    {
     "data": {
      "text/plain": [
       "array([[41,  1],\n",
       "       [ 0, 59]])"
      ]
     },
     "execution_count": 10,
     "metadata": {},
     "output_type": "execute_result"
    }
   ],
   "source": [
    "y_pred=model.predict(x_test)\n",
    "cm=confusion_matrix(y_test,y_pred)\n",
    "cm"
   ]
  },
  {
   "cell_type": "code",
   "execution_count": 11,
   "id": "b3882953",
   "metadata": {
    "execution": {
     "iopub.execute_input": "2025-04-14T04:38:21.889766Z",
     "iopub.status.busy": "2025-04-14T04:38:21.889488Z",
     "iopub.status.idle": "2025-04-14T04:38:21.896929Z",
     "shell.execute_reply": "2025-04-14T04:38:21.896277Z"
    },
    "papermill": {
     "duration": 0.015619,
     "end_time": "2025-04-14T04:38:21.898419",
     "exception": false,
     "start_time": "2025-04-14T04:38:21.882800",
     "status": "completed"
    },
    "tags": []
   },
   "outputs": [
    {
     "data": {
      "text/plain": [
       "array(['cp', 'other'], dtype=object)"
      ]
     },
     "execution_count": 11,
     "metadata": {},
     "output_type": "execute_result"
    }
   ],
   "source": [
    "model.classes_"
   ]
  },
  {
   "cell_type": "code",
   "execution_count": 12,
   "id": "ee4b98ef",
   "metadata": {
    "execution": {
     "iopub.execute_input": "2025-04-14T04:38:21.912059Z",
     "iopub.status.busy": "2025-04-14T04:38:21.911763Z",
     "iopub.status.idle": "2025-04-14T04:38:22.072478Z",
     "shell.execute_reply": "2025-04-14T04:38:22.071660Z"
    },
    "papermill": {
     "duration": 0.168859,
     "end_time": "2025-04-14T04:38:22.073887",
     "exception": false,
     "start_time": "2025-04-14T04:38:21.905028",
     "status": "completed"
    },
    "tags": []
   },
   "outputs": [
    {
     "data": {
      "image/png": "[encoded data removed]",
      "text/plain": [
       "<Figure size 400x400 with 1 Axes>"
      ]
     },
     "metadata": {},
     "output_type": "display_data"
    }
   ],
   "source": [
    "#Plotting the confusion matrix\n",
    "plt.figure(figsize=(4,4))\n",
    "sns.heatmap(cm,annot=True,vmin=0,cmap='Blues',cbar=False)\n",
    "plt.xticks(np.arange(2)+0.5,model.classes_)\n",
    "plt.yticks(np.arange(2)+0.5,model.classes_)\n",
    "plt.xlabel('Predicted')\n",
    "plt.ylabel('Actual')\n",
    "plt.title('Confusion Matrix')\n",
    "plt.show()"
   ]
  },
  {
   "cell_type": "code",
   "execution_count": 13,
   "id": "90b5d69e",
   "metadata": {
    "execution": {
     "iopub.execute_input": "2025-04-14T04:38:22.083341Z",
     "iopub.status.busy": "2025-04-14T04:38:22.082879Z",
     "iopub.status.idle": "2025-04-14T04:38:22.087876Z",
     "shell.execute_reply": "2025-04-14T04:38:22.087275Z"
    },
    "papermill": {
     "duration": 0.010796,
     "end_time": "2025-04-14T04:38:22.089086",
     "exception": false,
     "start_time": "2025-04-14T04:38:22.078290",
     "status": "completed"
    },
    "tags": []
   },
   "outputs": [
    {
     "data": {
      "text/plain": [
       "array(['cp', 'other', 'other', 'other', 'other', 'cp', 'other', 'cp',\n",
       "       'other', 'cp', 'cp', 'other', 'other', 'other', 'cp', 'other',\n",
       "       'cp', 'other', 'cp', 'other', 'other', 'other', 'cp', 'other',\n",
       "       'other', 'other', 'other', 'cp', 'other', 'cp', 'cp', 'cp',\n",
       "       'other', 'cp', 'other', 'cp', 'other', 'other', 'cp', 'other',\n",
       "       'cp', 'other', 'other', 'cp', 'other', 'other', 'other', 'other',\n",
       "       'other', 'cp', 'other', 'other', 'cp', 'cp', 'other', 'other',\n",
       "       'other', 'cp', 'other', 'other', 'cp', 'cp', 'other', 'other',\n",
       "       'cp', 'cp', 'other', 'other', 'other', 'cp', 'other', 'other',\n",
       "       'other', 'cp', 'other', 'cp', 'cp', 'cp', 'other', 'other', 'cp',\n",
       "       'other', 'other', 'cp', 'cp', 'cp', 'other', 'other', 'cp',\n",
       "       'other', 'cp', 'other', 'cp', 'other', 'cp', 'other', 'other',\n",
       "       'other', 'other', 'cp', 'cp'], dtype=object)"
      ]
     },
     "execution_count": 13,
     "metadata": {},
     "output_type": "execute_result"
    }
   ],
   "source": [
    "y_pred"
   ]
  },
  {
   "cell_type": "code",
   "execution_count": null,
   "id": "43468da5",
   "metadata": {
    "papermill": {
     "duration": 0.003839,
     "end_time": "2025-04-14T04:38:22.097184",
     "exception": false,
     "start_time": "2025-04-14T04:38:22.093345",
     "status": "completed"
    },
    "tags": []
   },
   "outputs": [],
   "source": []
  }
 ],
 "metadata": {
  "kaggle": {
   "accelerator": "none",
   "dataSources": [
    {
     "datasetId": 521981,
     "sourceId": 958779,
     "sourceType": "datasetVersion"
    }
   ],
   "dockerImageVersionId": 31012,
   "isGpuEnabled": false,
   "isInternetEnabled": true,
   "language": "python",
   "sourceType": "notebook"
  },
  "kernelspec": {
   "display_name": "Python 3",
   "language": "python",
   "name": "python3"
  },
  "language_info": {
   "codemirror_mode": {
    "name": "ipython",
    "version": 3
   },
   "file_extension": ".py",
   "mimetype": "text/x-python",
   "name": "python",
   "nbconvert_exporter": "python",
   "pygments_lexer": "ipython3",
   "version": "3.11.11"
  },
  "papermill": {
   "default_parameters": {},
   "duration": 9.305652,
   "end_time": "2025-04-14T04:38:22.720103",
   "environment_variables": {},
   "exception": null,
   "input_path": "__notebook__.ipynb",
   "output_path": "__notebook__.ipynb",
   "parameters": {},
   "start_time": "2025-04-14T04:38:13.414451",
   "version": "2.6.0"
  }
 },
 "nbformat": 4,
 "nbformat_minor": 5
}
