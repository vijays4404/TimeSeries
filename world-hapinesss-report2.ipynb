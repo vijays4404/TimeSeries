{
 "cells": [
  {
   "cell_type": "code",
   "execution_count": 1,
   "id": "ec1913bc",
   "metadata": {
    "_cell_guid": "b1076dfc-b9ad-4769-8c92-a6c4dae69d19",
    "_uuid": "8f2839f25d086af736a60e9eeb907d3b93b6e0e5",
    "execution": {
     "iopub.execute_input": "2024-05-29T16:00:45.490074Z",
     "iopub.status.busy": "2024-05-29T16:00:45.489712Z",
     "iopub.status.idle": "2024-05-29T16:00:48.326067Z",
     "shell.execute_reply": "2024-05-29T16:00:48.324862Z"
    },
    "papermill": {
     "duration": 2.844954,
     "end_time": "2024-05-29T16:00:48.328797",
     "exception": false,
     "start_time": "2024-05-29T16:00:45.483843",
     "status": "completed"
    },
    "tags": []
   },
   "outputs": [],
   "source": [
    "#importing library\n",
    "import pandas as pd\n",
    "import numpy as np\n",
    "import matplotlib.pyplot as plt\n",
    "import seaborn as sns\n",
    "from sklearn.preprocessing import MinMaxScaler\n",
    "from sklearn.model_selection import train_test_split\n",
    "from sklearn.linear_model import LinearRegression"
   ]
  },
  {
   "cell_type": "code",
   "execution_count": 2,
   "id": "3ff78dd8",
   "metadata": {
    "execution": {
     "iopub.execute_input": "2024-05-29T16:00:48.338917Z",
     "iopub.status.busy": "2024-05-29T16:00:48.338374Z",
     "iopub.status.idle": "2024-05-29T16:00:48.393699Z",
     "shell.execute_reply": "2024-05-29T16:00:48.392595Z"
    },
    "papermill": {
     "duration": 0.063139,
     "end_time": "2024-05-29T16:00:48.396327",
     "exception": false,
     "start_time": "2024-05-29T16:00:48.333188",
     "status": "completed"
    },
    "tags": []
   },
   "outputs": [
    {
     "data": {
      "text/html": [
       "<div>\n",
       "<style scoped>\n",
       "    .dataframe tbody tr th:only-of-type {\n",
       "        vertical-align: middle;\n",
       "    }\n",
       "\n",
       "    .dataframe tbody tr th {\n",
       "        vertical-align: top;\n",
       "    }\n",
       "\n",
       "    .dataframe thead th {\n",
       "        text-align: right;\n",
       "    }\n",
       "</style>\n",
       "<table border=\"1\" class=\"dataframe\">\n",
       "  <thead>\n",
       "    <tr style=\"text-align: right;\">\n",
       "      <th></th>\n",
       "      <th>Overall rank</th>\n",
       "      <th>Country or region</th>\n",
       "      <th>Score</th>\n",
       "      <th>GDP per capita</th>\n",
       "      <th>Social support</th>\n",
       "      <th>Healthy life expectancy</th>\n",
       "      <th>Freedom to make life choices</th>\n",
       "      <th>Generosity</th>\n",
       "      <th>Perceptions of corruption</th>\n",
       "    </tr>\n",
       "  </thead>\n",
       "  <tbody>\n",
       "    <tr>\n",
       "      <th>0</th>\n",
       "      <td>1</td>\n",
       "      <td>Finland</td>\n",
       "      <td>7.769</td>\n",
       "      <td>1.340</td>\n",
       "      <td>1.587</td>\n",
       "      <td>0.986</td>\n",
       "      <td>0.596</td>\n",
       "      <td>0.153</td>\n",
       "      <td>0.393</td>\n",
       "    </tr>\n",
       "    <tr>\n",
       "      <th>1</th>\n",
       "      <td>2</td>\n",
       "      <td>Denmark</td>\n",
       "      <td>7.600</td>\n",
       "      <td>1.383</td>\n",
       "      <td>1.573</td>\n",
       "      <td>0.996</td>\n",
       "      <td>0.592</td>\n",
       "      <td>0.252</td>\n",
       "      <td>0.410</td>\n",
       "    </tr>\n",
       "    <tr>\n",
       "      <th>2</th>\n",
       "      <td>3</td>\n",
       "      <td>Norway</td>\n",
       "      <td>7.554</td>\n",
       "      <td>1.488</td>\n",
       "      <td>1.582</td>\n",
       "      <td>1.028</td>\n",
       "      <td>0.603</td>\n",
       "      <td>0.271</td>\n",
       "      <td>0.341</td>\n",
       "    </tr>\n",
       "    <tr>\n",
       "      <th>3</th>\n",
       "      <td>4</td>\n",
       "      <td>Iceland</td>\n",
       "      <td>7.494</td>\n",
       "      <td>1.380</td>\n",
       "      <td>1.624</td>\n",
       "      <td>1.026</td>\n",
       "      <td>0.591</td>\n",
       "      <td>0.354</td>\n",
       "      <td>0.118</td>\n",
       "    </tr>\n",
       "    <tr>\n",
       "      <th>4</th>\n",
       "      <td>5</td>\n",
       "      <td>Netherlands</td>\n",
       "      <td>7.488</td>\n",
       "      <td>1.396</td>\n",
       "      <td>1.522</td>\n",
       "      <td>0.999</td>\n",
       "      <td>0.557</td>\n",
       "      <td>0.322</td>\n",
       "      <td>0.298</td>\n",
       "    </tr>\n",
       "    <tr>\n",
       "      <th>...</th>\n",
       "      <td>...</td>\n",
       "      <td>...</td>\n",
       "      <td>...</td>\n",
       "      <td>...</td>\n",
       "      <td>...</td>\n",
       "      <td>...</td>\n",
       "      <td>...</td>\n",
       "      <td>...</td>\n",
       "      <td>...</td>\n",
       "    </tr>\n",
       "    <tr>\n",
       "      <th>151</th>\n",
       "      <td>152</td>\n",
       "      <td>Rwanda</td>\n",
       "      <td>3.334</td>\n",
       "      <td>0.359</td>\n",
       "      <td>0.711</td>\n",
       "      <td>0.614</td>\n",
       "      <td>0.555</td>\n",
       "      <td>0.217</td>\n",
       "      <td>0.411</td>\n",
       "    </tr>\n",
       "    <tr>\n",
       "      <th>152</th>\n",
       "      <td>153</td>\n",
       "      <td>Tanzania</td>\n",
       "      <td>3.231</td>\n",
       "      <td>0.476</td>\n",
       "      <td>0.885</td>\n",
       "      <td>0.499</td>\n",
       "      <td>0.417</td>\n",
       "      <td>0.276</td>\n",
       "      <td>0.147</td>\n",
       "    </tr>\n",
       "    <tr>\n",
       "      <th>153</th>\n",
       "      <td>154</td>\n",
       "      <td>Afghanistan</td>\n",
       "      <td>3.203</td>\n",
       "      <td>0.350</td>\n",
       "      <td>0.517</td>\n",
       "      <td>0.361</td>\n",
       "      <td>0.000</td>\n",
       "      <td>0.158</td>\n",
       "      <td>0.025</td>\n",
       "    </tr>\n",
       "    <tr>\n",
       "      <th>154</th>\n",
       "      <td>155</td>\n",
       "      <td>Central African Republic</td>\n",
       "      <td>3.083</td>\n",
       "      <td>0.026</td>\n",
       "      <td>0.000</td>\n",
       "      <td>0.105</td>\n",
       "      <td>0.225</td>\n",
       "      <td>0.235</td>\n",
       "      <td>0.035</td>\n",
       "    </tr>\n",
       "    <tr>\n",
       "      <th>155</th>\n",
       "      <td>156</td>\n",
       "      <td>South Sudan</td>\n",
       "      <td>2.853</td>\n",
       "      <td>0.306</td>\n",
       "      <td>0.575</td>\n",
       "      <td>0.295</td>\n",
       "      <td>0.010</td>\n",
       "      <td>0.202</td>\n",
       "      <td>0.091</td>\n",
       "    </tr>\n",
       "  </tbody>\n",
       "</table>\n",
       "<p>156 rows × 9 columns</p>\n",
       "</div>"
      ],
      "text/plain": [
       "     Overall rank         Country or region  Score  GDP per capita  \\\n",
       "0               1                   Finland  7.769           1.340   \n",
       "1               2                   Denmark  7.600           1.383   \n",
       "2               3                    Norway  7.554           1.488   \n",
       "3               4                   Iceland  7.494           1.380   \n",
       "4               5               Netherlands  7.488           1.396   \n",
       "..            ...                       ...    ...             ...   \n",
       "151           152                    Rwanda  3.334           0.359   \n",
       "152           153                  Tanzania  3.231           0.476   \n",
       "153           154               Afghanistan  3.203           0.350   \n",
       "154           155  Central African Republic  3.083           0.026   \n",
       "155           156               South Sudan  2.853           0.306   \n",
       "\n",
       "     Social support  Healthy life expectancy  Freedom to make life choices  \\\n",
       "0             1.587                    0.986                         0.596   \n",
       "1             1.573                    0.996                         0.592   \n",
       "2             1.582                    1.028                         0.603   \n",
       "3             1.624                    1.026                         0.591   \n",
       "4             1.522                    0.999                         0.557   \n",
       "..              ...                      ...                           ...   \n",
       "151           0.711                    0.614                         0.555   \n",
       "152           0.885                    0.499                         0.417   \n",
       "153           0.517                    0.361                         0.000   \n",
       "154           0.000                    0.105                         0.225   \n",
       "155           0.575                    0.295                         0.010   \n",
       "\n",
       "     Generosity  Perceptions of corruption  \n",
       "0         0.153                      0.393  \n",
       "1         0.252                      0.410  \n",
       "2         0.271                      0.341  \n",
       "3         0.354                      0.118  \n",
       "4         0.322                      0.298  \n",
       "..          ...                        ...  \n",
       "151       0.217                      0.411  \n",
       "152       0.276                      0.147  \n",
       "153       0.158                      0.025  \n",
       "154       0.235                      0.035  \n",
       "155       0.202                      0.091  \n",
       "\n",
       "[156 rows x 9 columns]"
      ]
     },
     "execution_count": 2,
     "metadata": {},
     "output_type": "execute_result"
    }
   ],
   "source": [
    "#loading the dataset\n",
    "df=pd.read_csv('/kaggle/input/world-happiness/2019.csv')\n",
    "#loading the dataset\n",
    "df"
   ]
  },
  {
   "cell_type": "code",
   "execution_count": 3,
   "id": "823beae8",
   "metadata": {
    "execution": {
     "iopub.execute_input": "2024-05-29T16:00:48.406834Z",
     "iopub.status.busy": "2024-05-29T16:00:48.406418Z",
     "iopub.status.idle": "2024-05-29T16:00:48.424808Z",
     "shell.execute_reply": "2024-05-29T16:00:48.423689Z"
    },
    "papermill": {
     "duration": 0.026451,
     "end_time": "2024-05-29T16:00:48.427198",
     "exception": false,
     "start_time": "2024-05-29T16:00:48.400747",
     "status": "completed"
    },
    "tags": []
   },
   "outputs": [
    {
     "data": {
      "text/html": [
       "<div>\n",
       "<style scoped>\n",
       "    .dataframe tbody tr th:only-of-type {\n",
       "        vertical-align: middle;\n",
       "    }\n",
       "\n",
       "    .dataframe tbody tr th {\n",
       "        vertical-align: top;\n",
       "    }\n",
       "\n",
       "    .dataframe thead th {\n",
       "        text-align: right;\n",
       "    }\n",
       "</style>\n",
       "<table border=\"1\" class=\"dataframe\">\n",
       "  <thead>\n",
       "    <tr style=\"text-align: right;\">\n",
       "      <th></th>\n",
       "      <th>Score</th>\n",
       "      <th>GDP per capita</th>\n",
       "      <th>Social support</th>\n",
       "      <th>Healthy life expectancy</th>\n",
       "      <th>Freedom to make life choices</th>\n",
       "      <th>Generosity</th>\n",
       "      <th>Perceptions of corruption</th>\n",
       "    </tr>\n",
       "  </thead>\n",
       "  <tbody>\n",
       "    <tr>\n",
       "      <th>0</th>\n",
       "      <td>7.769</td>\n",
       "      <td>1.340</td>\n",
       "      <td>1.587</td>\n",
       "      <td>0.986</td>\n",
       "      <td>0.596</td>\n",
       "      <td>0.153</td>\n",
       "      <td>0.393</td>\n",
       "    </tr>\n",
       "    <tr>\n",
       "      <th>1</th>\n",
       "      <td>7.600</td>\n",
       "      <td>1.383</td>\n",
       "      <td>1.573</td>\n",
       "      <td>0.996</td>\n",
       "      <td>0.592</td>\n",
       "      <td>0.252</td>\n",
       "      <td>0.410</td>\n",
       "    </tr>\n",
       "    <tr>\n",
       "      <th>2</th>\n",
       "      <td>7.554</td>\n",
       "      <td>1.488</td>\n",
       "      <td>1.582</td>\n",
       "      <td>1.028</td>\n",
       "      <td>0.603</td>\n",
       "      <td>0.271</td>\n",
       "      <td>0.341</td>\n",
       "    </tr>\n",
       "    <tr>\n",
       "      <th>3</th>\n",
       "      <td>7.494</td>\n",
       "      <td>1.380</td>\n",
       "      <td>1.624</td>\n",
       "      <td>1.026</td>\n",
       "      <td>0.591</td>\n",
       "      <td>0.354</td>\n",
       "      <td>0.118</td>\n",
       "    </tr>\n",
       "    <tr>\n",
       "      <th>4</th>\n",
       "      <td>7.488</td>\n",
       "      <td>1.396</td>\n",
       "      <td>1.522</td>\n",
       "      <td>0.999</td>\n",
       "      <td>0.557</td>\n",
       "      <td>0.322</td>\n",
       "      <td>0.298</td>\n",
       "    </tr>\n",
       "    <tr>\n",
       "      <th>...</th>\n",
       "      <td>...</td>\n",
       "      <td>...</td>\n",
       "      <td>...</td>\n",
       "      <td>...</td>\n",
       "      <td>...</td>\n",
       "      <td>...</td>\n",
       "      <td>...</td>\n",
       "    </tr>\n",
       "    <tr>\n",
       "      <th>151</th>\n",
       "      <td>3.334</td>\n",
       "      <td>0.359</td>\n",
       "      <td>0.711</td>\n",
       "      <td>0.614</td>\n",
       "      <td>0.555</td>\n",
       "      <td>0.217</td>\n",
       "      <td>0.411</td>\n",
       "    </tr>\n",
       "    <tr>\n",
       "      <th>152</th>\n",
       "      <td>3.231</td>\n",
       "      <td>0.476</td>\n",
       "      <td>0.885</td>\n",
       "      <td>0.499</td>\n",
       "      <td>0.417</td>\n",
       "      <td>0.276</td>\n",
       "      <td>0.147</td>\n",
       "    </tr>\n",
       "    <tr>\n",
       "      <th>153</th>\n",
       "      <td>3.203</td>\n",
       "      <td>0.350</td>\n",
       "      <td>0.517</td>\n",
       "      <td>0.361</td>\n",
       "      <td>0.000</td>\n",
       "      <td>0.158</td>\n",
       "      <td>0.025</td>\n",
       "    </tr>\n",
       "    <tr>\n",
       "      <th>154</th>\n",
       "      <td>3.083</td>\n",
       "      <td>0.026</td>\n",
       "      <td>0.000</td>\n",
       "      <td>0.105</td>\n",
       "      <td>0.225</td>\n",
       "      <td>0.235</td>\n",
       "      <td>0.035</td>\n",
       "    </tr>\n",
       "    <tr>\n",
       "      <th>155</th>\n",
       "      <td>2.853</td>\n",
       "      <td>0.306</td>\n",
       "      <td>0.575</td>\n",
       "      <td>0.295</td>\n",
       "      <td>0.010</td>\n",
       "      <td>0.202</td>\n",
       "      <td>0.091</td>\n",
       "    </tr>\n",
       "  </tbody>\n",
       "</table>\n",
       "<p>156 rows × 7 columns</p>\n",
       "</div>"
      ],
      "text/plain": [
       "     Score  GDP per capita  Social support  Healthy life expectancy  \\\n",
       "0    7.769           1.340           1.587                    0.986   \n",
       "1    7.600           1.383           1.573                    0.996   \n",
       "2    7.554           1.488           1.582                    1.028   \n",
       "3    7.494           1.380           1.624                    1.026   \n",
       "4    7.488           1.396           1.522                    0.999   \n",
       "..     ...             ...             ...                      ...   \n",
       "151  3.334           0.359           0.711                    0.614   \n",
       "152  3.231           0.476           0.885                    0.499   \n",
       "153  3.203           0.350           0.517                    0.361   \n",
       "154  3.083           0.026           0.000                    0.105   \n",
       "155  2.853           0.306           0.575                    0.295   \n",
       "\n",
       "     Freedom to make life choices  Generosity  Perceptions of corruption  \n",
       "0                           0.596       0.153                      0.393  \n",
       "1                           0.592       0.252                      0.410  \n",
       "2                           0.603       0.271                      0.341  \n",
       "3                           0.591       0.354                      0.118  \n",
       "4                           0.557       0.322                      0.298  \n",
       "..                            ...         ...                        ...  \n",
       "151                         0.555       0.217                      0.411  \n",
       "152                         0.417       0.276                      0.147  \n",
       "153                         0.000       0.158                      0.025  \n",
       "154                         0.225       0.235                      0.035  \n",
       "155                         0.010       0.202                      0.091  \n",
       "\n",
       "[156 rows x 7 columns]"
      ]
     },
     "execution_count": 3,
     "metadata": {},
     "output_type": "execute_result"
    }
   ],
   "source": [
    "#dropping the unnecessary column\n",
    "df=df.drop(['Overall rank','Country or region'],axis=1)\n",
    "df"
   ]
  },
  {
   "cell_type": "markdown",
   "id": "b8d177de",
   "metadata": {
    "papermill": {
     "duration": 0.004304,
     "end_time": "2024-05-29T16:00:48.436259",
     "exception": false,
     "start_time": "2024-05-29T16:00:48.431955",
     "status": "completed"
    },
    "tags": []
   },
   "source": [
    "Visualization****"
   ]
  },
  {
   "cell_type": "code",
   "execution_count": 4,
   "id": "4cd8c863",
   "metadata": {
    "execution": {
     "iopub.execute_input": "2024-05-29T16:00:48.447306Z",
     "iopub.status.busy": "2024-05-29T16:00:48.446524Z",
     "iopub.status.idle": "2024-05-29T16:00:49.008336Z",
     "shell.execute_reply": "2024-05-29T16:00:49.007067Z"
    },
    "papermill": {
     "duration": 0.570274,
     "end_time": "2024-05-29T16:00:49.011068",
     "exception": false,
     "start_time": "2024-05-29T16:00:48.440794",
     "status": "completed"
    },
    "tags": []
   },
   "outputs": [
    {
     "data": {
      "image/png": "[encoded data removed]",
      "text/plain": [
       "<Figure size 1400x1000 with 2 Axes>"
      ]
     },
     "metadata": {},
     "output_type": "display_data"
    }
   ],
   "source": [
    "plt.figure(figsize=(14,10))\n",
    "sns.heatmap(df.corr(),annot=True,vmin=-1.0,vmax=1.0)\n",
    "plt.show()"
   ]
  },
  {
   "cell_type": "markdown",
   "id": "dcae5573",
   "metadata": {
    "papermill": {
     "duration": 0.005846,
     "end_time": "2024-05-29T16:00:49.023183",
     "exception": false,
     "start_time": "2024-05-29T16:00:49.017337",
     "status": "completed"
    },
    "tags": []
   },
   "source": [
    "# Preprocessing the Dataset"
   ]
  },
  {
   "cell_type": "code",
   "execution_count": 5,
   "id": "2dffcfee",
   "metadata": {
    "execution": {
     "iopub.execute_input": "2024-05-29T16:00:49.037103Z",
     "iopub.status.busy": "2024-05-29T16:00:49.036705Z",
     "iopub.status.idle": "2024-05-29T16:00:49.045647Z",
     "shell.execute_reply": "2024-05-29T16:00:49.044482Z"
    },
    "papermill": {
     "duration": 0.018868,
     "end_time": "2024-05-29T16:00:49.048071",
     "exception": false,
     "start_time": "2024-05-29T16:00:49.029203",
     "status": "completed"
    },
    "tags": []
   },
   "outputs": [
    {
     "data": {
      "text/plain": [
       "Score                           0\n",
       "GDP per capita                  0\n",
       "Social support                  0\n",
       "Healthy life expectancy         0\n",
       "Freedom to make life choices    0\n",
       "Generosity                      0\n",
       "Perceptions of corruption       0\n",
       "dtype: int64"
      ]
     },
     "execution_count": 5,
     "metadata": {},
     "output_type": "execute_result"
    }
   ],
   "source": [
    "df.isna().sum()"
   ]
  },
  {
   "cell_type": "code",
   "execution_count": 6,
   "id": "ba76ca32",
   "metadata": {
    "execution": {
     "iopub.execute_input": "2024-05-29T16:00:49.062140Z",
     "iopub.status.busy": "2024-05-29T16:00:49.061721Z",
     "iopub.status.idle": "2024-05-29T16:00:49.069893Z",
     "shell.execute_reply": "2024-05-29T16:00:49.068751Z"
    },
    "papermill": {
     "duration": 0.018091,
     "end_time": "2024-05-29T16:00:49.072329",
     "exception": false,
     "start_time": "2024-05-29T16:00:49.054238",
     "status": "completed"
    },
    "tags": []
   },
   "outputs": [
    {
     "data": {
      "text/plain": [
       "Score                           float64\n",
       "GDP per capita                  float64\n",
       "Social support                  float64\n",
       "Healthy life expectancy         float64\n",
       "Freedom to make life choices    float64\n",
       "Generosity                      float64\n",
       "Perceptions of corruption       float64\n",
       "dtype: object"
      ]
     },
     "execution_count": 6,
     "metadata": {},
     "output_type": "execute_result"
    }
   ],
   "source": [
    "#checking datatyep\n",
    "df.dtypes"
   ]
  },
  {
   "cell_type": "code",
   "execution_count": 7,
   "id": "d49d61e5",
   "metadata": {
    "execution": {
     "iopub.execute_input": "2024-05-29T16:00:49.087052Z",
     "iopub.status.busy": "2024-05-29T16:00:49.086662Z",
     "iopub.status.idle": "2024-05-29T16:00:49.092981Z",
     "shell.execute_reply": "2024-05-29T16:00:49.091822Z"
    },
    "papermill": {
     "duration": 0.016866,
     "end_time": "2024-05-29T16:00:49.095455",
     "exception": false,
     "start_time": "2024-05-29T16:00:49.078589",
     "status": "completed"
    },
    "tags": []
   },
   "outputs": [],
   "source": [
    "y=df['Score']\n",
    "x=df.drop('Score',axis=1)\n"
   ]
  },
  {
   "cell_type": "code",
   "execution_count": 8,
   "id": "3cc9c073",
   "metadata": {
    "execution": {
     "iopub.execute_input": "2024-05-29T16:00:49.110134Z",
     "iopub.status.busy": "2024-05-29T16:00:49.109181Z",
     "iopub.status.idle": "2024-05-29T16:00:49.129742Z",
     "shell.execute_reply": "2024-05-29T16:00:49.128637Z"
    },
    "papermill": {
     "duration": 0.030528,
     "end_time": "2024-05-29T16:00:49.132245",
     "exception": false,
     "start_time": "2024-05-29T16:00:49.101717",
     "status": "completed"
    },
    "tags": []
   },
   "outputs": [
    {
     "data": {
      "text/html": [
       "<div>\n",
       "<style scoped>\n",
       "    .dataframe tbody tr th:only-of-type {\n",
       "        vertical-align: middle;\n",
       "    }\n",
       "\n",
       "    .dataframe tbody tr th {\n",
       "        vertical-align: top;\n",
       "    }\n",
       "\n",
       "    .dataframe thead th {\n",
       "        text-align: right;\n",
       "    }\n",
       "</style>\n",
       "<table border=\"1\" class=\"dataframe\">\n",
       "  <thead>\n",
       "    <tr style=\"text-align: right;\">\n",
       "      <th></th>\n",
       "      <th>GDP per capita</th>\n",
       "      <th>Social support</th>\n",
       "      <th>Healthy life expectancy</th>\n",
       "      <th>Freedom to make life choices</th>\n",
       "      <th>Generosity</th>\n",
       "      <th>Perceptions of corruption</th>\n",
       "    </tr>\n",
       "  </thead>\n",
       "  <tbody>\n",
       "    <tr>\n",
       "      <th>0</th>\n",
       "      <td>0.795724</td>\n",
       "      <td>0.977217</td>\n",
       "      <td>0.864154</td>\n",
       "      <td>0.944532</td>\n",
       "      <td>0.270318</td>\n",
       "      <td>0.867550</td>\n",
       "    </tr>\n",
       "    <tr>\n",
       "      <th>1</th>\n",
       "      <td>0.821259</td>\n",
       "      <td>0.968596</td>\n",
       "      <td>0.872918</td>\n",
       "      <td>0.938193</td>\n",
       "      <td>0.445230</td>\n",
       "      <td>0.905077</td>\n",
       "    </tr>\n",
       "    <tr>\n",
       "      <th>2</th>\n",
       "      <td>0.883610</td>\n",
       "      <td>0.974138</td>\n",
       "      <td>0.900964</td>\n",
       "      <td>0.955626</td>\n",
       "      <td>0.478799</td>\n",
       "      <td>0.752759</td>\n",
       "    </tr>\n",
       "    <tr>\n",
       "      <th>3</th>\n",
       "      <td>0.819477</td>\n",
       "      <td>1.000000</td>\n",
       "      <td>0.899211</td>\n",
       "      <td>0.936609</td>\n",
       "      <td>0.625442</td>\n",
       "      <td>0.260486</td>\n",
       "    </tr>\n",
       "    <tr>\n",
       "      <th>4</th>\n",
       "      <td>0.828979</td>\n",
       "      <td>0.937192</td>\n",
       "      <td>0.875548</td>\n",
       "      <td>0.882726</td>\n",
       "      <td>0.568905</td>\n",
       "      <td>0.657837</td>\n",
       "    </tr>\n",
       "    <tr>\n",
       "      <th>...</th>\n",
       "      <td>...</td>\n",
       "      <td>...</td>\n",
       "      <td>...</td>\n",
       "      <td>...</td>\n",
       "      <td>...</td>\n",
       "      <td>...</td>\n",
       "    </tr>\n",
       "    <tr>\n",
       "      <th>151</th>\n",
       "      <td>0.213183</td>\n",
       "      <td>0.437808</td>\n",
       "      <td>0.538124</td>\n",
       "      <td>0.879556</td>\n",
       "      <td>0.383392</td>\n",
       "      <td>0.907285</td>\n",
       "    </tr>\n",
       "    <tr>\n",
       "      <th>152</th>\n",
       "      <td>0.282660</td>\n",
       "      <td>0.544951</td>\n",
       "      <td>0.437336</td>\n",
       "      <td>0.660856</td>\n",
       "      <td>0.487633</td>\n",
       "      <td>0.324503</td>\n",
       "    </tr>\n",
       "    <tr>\n",
       "      <th>153</th>\n",
       "      <td>0.207838</td>\n",
       "      <td>0.318350</td>\n",
       "      <td>0.316389</td>\n",
       "      <td>0.000000</td>\n",
       "      <td>0.279152</td>\n",
       "      <td>0.055188</td>\n",
       "    </tr>\n",
       "    <tr>\n",
       "      <th>154</th>\n",
       "      <td>0.015439</td>\n",
       "      <td>0.000000</td>\n",
       "      <td>0.092025</td>\n",
       "      <td>0.356577</td>\n",
       "      <td>0.415194</td>\n",
       "      <td>0.077263</td>\n",
       "    </tr>\n",
       "    <tr>\n",
       "      <th>155</th>\n",
       "      <td>0.181710</td>\n",
       "      <td>0.354064</td>\n",
       "      <td>0.258545</td>\n",
       "      <td>0.015848</td>\n",
       "      <td>0.356890</td>\n",
       "      <td>0.200883</td>\n",
       "    </tr>\n",
       "  </tbody>\n",
       "</table>\n",
       "<p>156 rows × 6 columns</p>\n",
       "</div>"
      ],
      "text/plain": [
       "     GDP per capita  Social support  Healthy life expectancy  \\\n",
       "0          0.795724        0.977217                 0.864154   \n",
       "1          0.821259        0.968596                 0.872918   \n",
       "2          0.883610        0.974138                 0.900964   \n",
       "3          0.819477        1.000000                 0.899211   \n",
       "4          0.828979        0.937192                 0.875548   \n",
       "..              ...             ...                      ...   \n",
       "151        0.213183        0.437808                 0.538124   \n",
       "152        0.282660        0.544951                 0.437336   \n",
       "153        0.207838        0.318350                 0.316389   \n",
       "154        0.015439        0.000000                 0.092025   \n",
       "155        0.181710        0.354064                 0.258545   \n",
       "\n",
       "     Freedom to make life choices  Generosity  Perceptions of corruption  \n",
       "0                        0.944532    0.270318                   0.867550  \n",
       "1                        0.938193    0.445230                   0.905077  \n",
       "2                        0.955626    0.478799                   0.752759  \n",
       "3                        0.936609    0.625442                   0.260486  \n",
       "4                        0.882726    0.568905                   0.657837  \n",
       "..                            ...         ...                        ...  \n",
       "151                      0.879556    0.383392                   0.907285  \n",
       "152                      0.660856    0.487633                   0.324503  \n",
       "153                      0.000000    0.279152                   0.055188  \n",
       "154                      0.356577    0.415194                   0.077263  \n",
       "155                      0.015848    0.356890                   0.200883  \n",
       "\n",
       "[156 rows x 6 columns]"
      ]
     },
     "execution_count": 8,
     "metadata": {},
     "output_type": "execute_result"
    }
   ],
   "source": [
    "scaler=MinMaxScaler()\n",
    "x=pd.DataFrame(scaler.fit_transform(x),columns=x.columns,index=x.index)\n",
    "x"
   ]
  },
  {
   "cell_type": "code",
   "execution_count": 9,
   "id": "aa9249fc",
   "metadata": {
    "execution": {
     "iopub.execute_input": "2024-05-29T16:00:49.147397Z",
     "iopub.status.busy": "2024-05-29T16:00:49.147008Z",
     "iopub.status.idle": "2024-05-29T16:00:49.156083Z",
     "shell.execute_reply": "2024-05-29T16:00:49.154928Z"
    },
    "papermill": {
     "duration": 0.019224,
     "end_time": "2024-05-29T16:00:49.158223",
     "exception": false,
     "start_time": "2024-05-29T16:00:49.138999",
     "status": "completed"
    },
    "tags": []
   },
   "outputs": [],
   "source": [
    "x_train,x_test,y_train,y_test=train_test_split(x,y,train_size=0.7,random_state=123)\n"
   ]
  },
  {
   "cell_type": "code",
   "execution_count": 10,
   "id": "7e2e262b",
   "metadata": {
    "execution": {
     "iopub.execute_input": "2024-05-29T16:00:49.173854Z",
     "iopub.status.busy": "2024-05-29T16:00:49.172707Z",
     "iopub.status.idle": "2024-05-29T16:00:49.178735Z",
     "shell.execute_reply": "2024-05-29T16:00:49.177712Z"
    },
    "papermill": {
     "duration": 0.016241,
     "end_time": "2024-05-29T16:00:49.181010",
     "exception": false,
     "start_time": "2024-05-29T16:00:49.164769",
     "status": "completed"
    },
    "tags": []
   },
   "outputs": [
    {
     "name": "stdout",
     "output_type": "stream",
     "text": [
      "(109, 6)\n",
      "(47, 6)\n",
      "(109,)\n",
      "(47,)\n"
     ]
    }
   ],
   "source": [
    "print(x_train.shape)\n",
    "print(x_test.shape)\n",
    "print(y_train.shape)\n",
    "print(y_test.shape)"
   ]
  },
  {
   "cell_type": "code",
   "execution_count": 11,
   "id": "1055d61e",
   "metadata": {
    "execution": {
     "iopub.execute_input": "2024-05-29T16:00:49.196349Z",
     "iopub.status.busy": "2024-05-29T16:00:49.195405Z",
     "iopub.status.idle": "2024-05-29T16:00:49.228077Z",
     "shell.execute_reply": "2024-05-29T16:00:49.226591Z"
    },
    "papermill": {
     "duration": 0.042763,
     "end_time": "2024-05-29T16:00:49.230458",
     "exception": false,
     "start_time": "2024-05-29T16:00:49.187695",
     "status": "completed"
    },
    "tags": []
   },
   "outputs": [
    {
     "name": "stdout",
     "output_type": "stream",
     "text": [
      "The accuracy of the model 0.8000243305725887\n"
     ]
    }
   ],
   "source": [
    "model=LinearRegression()\n",
    "model.fit(x_train,y_train)\n",
    "print(f'The accuracy of the model {model.score(x_test,y_test)}')"
   ]
  },
  {
   "cell_type": "code",
   "execution_count": null,
   "id": "aea204c9",
   "metadata": {
    "papermill": {
     "duration": 0.00729,
     "end_time": "2024-05-29T16:00:49.244446",
     "exception": false,
     "start_time": "2024-05-29T16:00:49.237156",
     "status": "completed"
    },
    "tags": []
   },
   "outputs": [],
   "source": []
  }
 ],
 "metadata": {
  "kaggle": {
   "accelerator": "none",
   "dataSources": [
    {
     "datasetId": 894,
     "sourceId": 813759,
     "sourceType": "datasetVersion"
    }
   ],
   "dockerImageVersionId": 30698,
   "isGpuEnabled": false,
   "isInternetEnabled": true,
   "language": "python",
   "sourceType": "notebook"
  },
  "kernelspec": {
   "display_name": "Python 3",
   "language": "python",
   "name": "python3"
  },
  "language_info": {
   "codemirror_mode": {
    "name": "ipython",
    "version": 3
   },
   "file_extension": ".py",
   "mimetype": "text/x-python",
   "name": "python",
   "nbconvert_exporter": "python",
   "pygments_lexer": "ipython3",
   "version": "3.10.13"
  },
  "papermill": {
   "default_parameters": {},
   "duration": 7.286873,
   "end_time": "2024-05-29T16:00:49.872468",
   "environment_variables": {},
   "exception": null,
   "input_path": "__notebook__.ipynb",
   "output_path": "__notebook__.ipynb",
   "parameters": {},
   "start_time": "2024-05-29T16:00:42.585595",
   "version": "2.5.0"
  }
 },
 "nbformat": 4,
 "nbformat_minor": 5
}
